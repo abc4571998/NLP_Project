{
 "cells": [
  {
   "cell_type": "code",
   "execution_count": 7,
   "metadata": {},
   "outputs": [
    {
     "name": "stderr",
     "output_type": "stream",
     "text": [
      "[nltk_data] Downloading package punkt to /root/nltk_data...\n",
      "[nltk_data]   Package punkt is already up-to-date!\n",
      "[nltk_data] Downloading package maxent_ne_chunker to\n",
      "[nltk_data]     /root/nltk_data...\n",
      "[nltk_data]   Unzipping chunkers/maxent_ne_chunker.zip.\n",
      "[nltk_data] Downloading package words to /root/nltk_data...\n",
      "[nltk_data]   Unzipping corpora/words.zip.\n",
      "[nltk_data] Downloading package averaged_perceptron_tagger to\n",
      "[nltk_data]     /root/nltk_data...\n",
      "[nltk_data]   Package averaged_perceptron_tagger is already up-to-\n",
      "[nltk_data]       date!\n"
     ]
    },
    {
     "data": {
      "text/plain": [
       "True"
      ]
     },
     "execution_count": 7,
     "metadata": {},
     "output_type": "execute_result"
    }
   ],
   "source": [
    "import nltk\n",
    "nltk.download('punkt') # The NLTK tokenizer\n",
    "nltk.download('maxent_ne_chunker') # NLTK named-entity chunker\n",
    "nltk.download('words') # NLTK list of words\n",
    "nltk.download('averaged_perceptron_tagger')"
   ]
  },
  {
   "cell_type": "code",
   "execution_count": 8,
   "metadata": {},
   "outputs": [
    {
     "name": "stdout",
     "output_type": "stream",
     "text": [
      "(S\n",
      "  In/IN\n",
      "  2017/CD\n",
      "  ,/,\n",
      "  star/NN\n",
      "  quarterback/NN\n",
      "  (PERSON Tom/NNP Brady/NNP)\n",
      "  led/VBD\n",
      "  the/DT\n",
      "  (ORGANIZATION Patriots/NNP)\n",
      "  to/TO\n",
      "  the/DT\n",
      "  (ORGANIZATION Super/NNP Bowl/NNP)\n",
      "  ,/,\n",
      "  but/CC\n",
      "  lost/VBD\n",
      "  to/TO\n",
      "  the/DT\n",
      "  (ORGANIZATION Philadelphia/NNP Eagles/NNP)\n",
      "  ./.)\n"
     ]
    }
   ],
   "source": [
    "sentence = ('In 2017, star quarterback Tom Brady led the Patriots to the Super Bowl, '\n",
    "           'but lost to the Philadelphia Eagles.')\n",
    "\n",
    "# 1. Tokenize using the NLTK tokenizer.\n",
    "tokens = nltk.word_tokenize(sentence)\n",
    "\n",
    "# 2. Tag parts of speech using the NLTK part-of-speech tagger.\n",
    "tagged = nltk.pos_tag(tokens)\n",
    "\n",
    "# 3. Extract entities from tagged sentence.\n",
    "entities = nltk.chunk.ne_chunk(tagged)\n",
    "print(entities)"
   ]
  },
  {
   "cell_type": "code",
   "execution_count": 9,
   "metadata": {},
   "outputs": [
    {
     "name": "stdout",
     "output_type": "stream",
     "text": [
      "[Tree('PERSON', [('Tom', 'NNP'), ('Brady', 'NNP')]), Tree('ORGANIZATION', [('Patriots', 'NNP')]), Tree('ORGANIZATION', [('Super', 'NNP'), ('Bowl', 'NNP')]), Tree('ORGANIZATION', [('Philadelphia', 'NNP'), ('Eagles', 'NNP')])]\n"
     ]
    }
   ],
   "source": [
    "named_entities = [entity for entity in entities if isinstance(entity, nltk.tree.Tree)]\n",
    "print(named_entities)"
   ]
  },
  {
   "cell_type": "code",
   "execution_count": 10,
   "metadata": {},
   "outputs": [],
   "source": [
    "import functools\n",
    "\n",
    "@functools.lru_cache(maxsize=2**14)\n",
    "def get_entities(sentence):\n",
    "    tokens = nltk.word_tokenize(sentence)\n",
    "    tagged = nltk.pos_tag(tokens)\n",
    "    # Setting `binary=True` makes NLTK return all of the named\n",
    "    # entities tagged as NNP instead of detailed tags like\n",
    "    #'Organization', 'Geo-Political Entity', etc.\n",
    "    entities = nltk.chunk.ne_chunk(tagged, binary=True)\n",
    "    return entities.leaves()"
   ]
  },
  {
   "cell_type": "code",
   "execution_count": 11,
   "metadata": {},
   "outputs": [
    {
     "data": {
      "text/plain": [
       "[('Jack', 'NNP'),\n",
       " ('Black', 'NNP'),\n",
       " ('starred', 'VBD'),\n",
       " ('in', 'IN'),\n",
       " ('the', 'DT'),\n",
       " ('2003', 'CD'),\n",
       " ('film', 'NN'),\n",
       " ('classic', 'JJ'),\n",
       " ('``', '``'),\n",
       " ('School', 'NNP'),\n",
       " ('of', 'IN'),\n",
       " ('Rock', 'NNP'),\n",
       " (\"''\", \"''\"),\n",
       " ('.', '.')]"
      ]
     },
     "execution_count": 11,
     "metadata": {},
     "output_type": "execute_result"
    }
   ],
   "source": [
    "sentence = 'Jack Black starred in the 2003 film classic \"School of Rock\".'\n",
    "get_entities(sentence)"
   ]
  },
  {
   "cell_type": "code",
   "execution_count": 17,
   "metadata": {},
   "outputs": [],
   "source": [
    "from textattack.constraints import Constraint\n",
    "\n",
    "class NamedEntityConstraint(Constraint):\n",
    "    \"\"\" A constraint that ensures `transformed_text` only substitutes named entities from `current_text` with other named entities.\n",
    "    \"\"\"\n",
    "    def _check_constraint(self, transformed_text, current_text):\n",
    "        transformed_entities = get_entities(transformed_text.text)\n",
    "        current_entities = get_entities(current_text.text)\n",
    "        # If there aren't named entities, let's return False (the attack\n",
    "        # will eventually fail).\n",
    "        if len(current_entities) == 0:\n",
    "            return False\n",
    "        if len(current_entities) != len(transformed_entities):\n",
    "            # If the two sentences have a different number of entities, then \n",
    "            # they definitely don't have the same labels. In this case, the \n",
    "            # constraint is violated, and we return False.\n",
    "            return False\n",
    "        else:\n",
    "            # Here we compare all of the words, in order, to make sure that they match.\n",
    "            # If we find two words that don't match, this means a word was swapped \n",
    "            # between `current_text` and `transformed_text`. That word must be a named entity to fulfill our\n",
    "            # constraint.\n",
    "            current_word_label = None\n",
    "            transformed_word_label = None\n",
    "            for (word_1, label_1), (word_2, label_2) in zip(current_entities, transformed_entities):\n",
    "                if word_1 != word_2:\n",
    "                    # Finally, make sure that words swapped between `x` and `x_adv` are named entities. If \n",
    "                    # they're not, then we also return False.\n",
    "                    if (label_1 not in ['JJ', 'CD', 'DT']) or (label_2 not in ['JJ', 'CD', 'DT']):\n",
    "                        return False            \n",
    "            # If we get here, all of the labels match up. Return True!\n",
    "            return True\n",
    "    "
   ]
  },
  {
   "cell_type": "code",
   "execution_count": 18,
   "metadata": {},
   "outputs": [
    {
     "name": "stderr",
     "output_type": "stream",
     "text": [
      "textattack: Unknown if model of class <class 'transformers.models.albert.modeling_albert.AlbertForSequenceClassification'> compatible with goal function <class 'textattack.goal_functions.classification.untargeted_classification.UntargetedClassification'>.\n",
      "Using custom data configuration default\n",
      "Reusing dataset ag_news (/root/.cache/huggingface/datasets/ag_news/default/0.0.0/bc2bcb40336ace1a0374767fc29bb0296cdaf8a6da7298436239c54d79180548)\n",
      "100%|██████████| 2/2 [00:00<00:00, 812.38it/s]\n",
      "textattack: Loading \u001b[94mdatasets\u001b[0m dataset \u001b[94mag_news\u001b[0m, split \u001b[94mtest\u001b[0m.\n"
     ]
    }
   ],
   "source": [
    "import transformers\n",
    "from textattack.models.wrappers import HuggingFaceModelWrapper\n",
    "\n",
    "model = transformers.AutoModelForSequenceClassification.from_pretrained(\"textattack/albert-base-v2-ag-news\")\n",
    "tokenizer = transformers.AutoTokenizer.from_pretrained(\"textattack/albert-base-v2-ag-news\")\n",
    "\n",
    "model_wrapper = HuggingFaceModelWrapper(model, tokenizer)\n",
    "\n",
    "# Create the goal function using the model\n",
    "from textattack.goal_functions import UntargetedClassification\n",
    "goal_function = UntargetedClassification(model_wrapper)\n",
    "\n",
    "# Import the dataset\n",
    "from textattack.datasets import HuggingFaceDataset\n",
    "dataset = HuggingFaceDataset(\"ag_news\", None, \"test\")"
   ]
  },
  {
   "cell_type": "code",
   "execution_count": 19,
   "metadata": {},
   "outputs": [],
   "source": [
    "from textattack.transformations import WordSwapEmbedding\n",
    "from textattack.search_methods import GreedyWordSwapWIR\n",
    "from textattack import Attack\n",
    "from textattack.constraints.pre_transformation import RepeatModification, StopwordModification\n",
    "\n",
    "# We're going to the `WordSwapEmbedding` transformation. Using the default settings, this\n",
    "# will try substituting words with their neighbors in the counter-fitted embedding space. \n",
    "transformation = WordSwapEmbedding(max_candidates=20) \n",
    "\n",
    "# We'll use the greedy search with word importance ranking method again\n",
    "search_method = GreedyWordSwapWIR()\n",
    "\n",
    "# Our constraints will be the same as Tutorial 1, plus the named entity constraint\n",
    "constraints = [RepeatModification(),\n",
    "               StopwordModification(),\n",
    "               NamedEntityConstraint(False)]\n",
    "\n",
    "# Now, let's make the attack using these parameters. \n",
    "attack = Attack(goal_function, constraints, transformation, search_method)"
   ]
  },
  {
   "cell_type": "code",
   "execution_count": 20,
   "metadata": {},
   "outputs": [
    {
     "name": "stderr",
     "output_type": "stream",
     "text": [
      "textattack: Logging to CSV at path results.csv\n"
     ]
    },
    {
     "name": "stdout",
     "output_type": "stream",
     "text": [
      "Attack2(\n",
      "  (search_method): GreedyWordSwapWIR(\n",
      "    (wir_method):  unk\n",
      "  )\n",
      "  (goal_function):  UntargetedClassification\n",
      "  (transformation):  WordSwapEmbedding(\n",
      "    (max_candidates):  20\n",
      "    (embedding):  WordEmbedding\n",
      "  )\n",
      "  (constraints): \n",
      "    (0): NamedEntityConstraint(\n",
      "        (compare_against_original):  False\n",
      "      )\n",
      "    (1): RepeatModification\n",
      "    (2): StopwordModification\n",
      "  (is_black_box):  True\n",
      ") \n",
      "\n"
     ]
    },
    {
     "name": "stderr",
     "output_type": "stream",
     "text": [
      "[Succeeded / Failed / Skipped / Total] 0 / 1 / 0 / 1:   0%|          | 0/5 [00:02<?, ?it/s]"
     ]
    },
    {
     "name": "stdout",
     "output_type": "stream",
     "text": [
      "--------------------------------------------- Result 1 ---------------------------------------------\n",
      "[[Business (75%)]] --> [[[FAILED]]]\n",
      "\n",
      "Fears for T N pension after talks Unions representing workers at Turner   Newall say they are 'disappointed' after talks with stricken parent firm Federal Mogul.\n",
      "\n",
      "\n"
     ]
    },
    {
     "name": "stderr",
     "output_type": "stream",
     "text": [
      "[Succeeded / Failed / Skipped / Total] 0 / 2 / 0 / 2:   0%|          | 0/5 [00:09<?, ?it/s]"
     ]
    },
    {
     "name": "stdout",
     "output_type": "stream",
     "text": [
      "--------------------------------------------- Result 2 ---------------------------------------------\n",
      "[[Sci/tech (100%)]] --> [[[FAILED]]]\n",
      "\n",
      "The Race is On: Second Private Team Sets Launch Date for Human Spaceflight (SPACE.com) SPACE.com - TORONTO, Canada -- A second\\team of rocketeers competing for the  #36;10 million Ansari X Prize, a contest for\\privately funded suborbital space flight, has officially announced the first\\launch date for its manned rocket.\n",
      "\n",
      "\n"
     ]
    },
    {
     "name": "stderr",
     "output_type": "stream",
     "text": [
      "[Succeeded / Failed / Skipped / Total] 0 / 3 / 0 / 3:   0%|          | 0/5 [00:13<?, ?it/s]"
     ]
    },
    {
     "name": "stdout",
     "output_type": "stream",
     "text": [
      "--------------------------------------------- Result 3 ---------------------------------------------\n",
      "[[Sci/tech (100%)]] --> [[[FAILED]]]\n",
      "\n",
      "Ky. Company Wins Grant to Study Peptides (AP) AP - A company founded by a chemistry researcher at the University of Louisville won a grant to develop a method of producing better peptides, which are short chains of amino acids, the building blocks of proteins.\n",
      "\n",
      "\n"
     ]
    },
    {
     "name": "stderr",
     "output_type": "stream",
     "text": [
      "[Succeeded / Failed / Skipped / Total] 0 / 4 / 0 / 4:   0%|          | 0/5 [00:21<?, ?it/s]"
     ]
    },
    {
     "name": "stdout",
     "output_type": "stream",
     "text": [
      "--------------------------------------------- Result 4 ---------------------------------------------\n",
      "[[Sci/tech (100%)]] --> [[[FAILED]]]\n",
      "\n",
      "Prediction Unit Helps Forecast Wildfires (AP) AP - It's barely dawn when Mike Fitzpatrick starts his shift with a blur of colorful maps, figures and endless charts, but already he knows what the day will bring. Lightning will strike in places he expects. Winds will pick up, moist places will dry and flames will roar.\n",
      "\n",
      "\n"
     ]
    },
    {
     "name": "stderr",
     "output_type": "stream",
     "text": [
      "[Succeeded / Failed / Skipped / Total] 0 / 5 / 0 / 5:   0%|          | 0/5 [00:24<?, ?it/s]"
     ]
    },
    {
     "name": "stdout",
     "output_type": "stream",
     "text": [
      "--------------------------------------------- Result 5 ---------------------------------------------\n",
      "[[Sci/tech (100%)]] --> [[[FAILED]]]\n",
      "\n",
      "Calif. Aims to Limit Farm-Related Smog (AP) AP - Southern California's smog-fighting agency went after emissions of the bovine variety Friday, adopting the nation's first rules to reduce air pollution from dairy cow manure.\n",
      "\n",
      "\n"
     ]
    },
    {
     "name": "stderr",
     "output_type": "stream",
     "text": [
      "[Succeeded / Failed / Skipped / Total] 0 / 6 / 0 / 6:   0%|          | 0/5 [00:58<?, ?it/s]"
     ]
    },
    {
     "name": "stdout",
     "output_type": "stream",
     "text": [
      "--------------------------------------------- Result 6 ---------------------------------------------\n",
      "[[Sci/tech (100%)]] --> [[[FAILED]]]\n",
      "\n",
      "Open Letter Against British Copyright Indoctrination in Schools The British Department for Education and Skills (DfES) recently launched a \"Music Manifesto\" campaign, with the ostensible intention of educating the next generation of British musicians. Unfortunately, they also teamed up with the music industry (EMI, and various artists) to make this popular. EMI has apparently negotiated their end well, so that children in our schools will now be indoctrinated about the illegality of downloading music.The ignorance and audacity of this got to me a little, so I wrote an open letter to the DfES about it. Unfortunately, it's pedantic, as I suppose you have to be when writing to goverment representatives. But I hope you find it useful, and perhaps feel inspired to do something similar, if or when the same thing has happened in your area.\n",
      "\n",
      "\n"
     ]
    },
    {
     "name": "stderr",
     "output_type": "stream",
     "text": [
      "[Succeeded / Failed / Skipped / Total] 0 / 7 / 0 / 7:   0%|          | 0/5 [01:20<?, ?it/s]"
     ]
    },
    {
     "name": "stdout",
     "output_type": "stream",
     "text": [
      "--------------------------------------------- Result 7 ---------------------------------------------\n",
      "[[Sci/tech (100%)]] --> [[[FAILED]]]\n",
      "\n",
      "Loosing the War on Terrorism \\\\\"Sven Jaschan, self-confessed author of the Netsky and Sasser viruses, is\\responsible for 70 percent of virus infections in 2004, according to a six-month\\virus roundup published Wednesday by antivirus company Sophos.\"\\\\\"The 18-year-old Jaschan was taken into custody in Germany in May by police who\\said he had admitted programming both the Netsky and Sasser worms, something\\experts at Microsoft confirmed. (A Microsoft antivirus reward program led to the\\teenager's arrest.) During the five months preceding Jaschan's capture, there\\were at least 25 variants of Netsky and one of the port-scanning network worm\\Sasser.\"\\\\\"Graham Cluley, senior technology consultant at Sophos, said it was staggeri ...\\\\\n",
      "\n",
      "\n"
     ]
    },
    {
     "name": "stderr",
     "output_type": "stream",
     "text": [
      "[Succeeded / Failed / Skipped / Total] 0 / 8 / 0 / 8:   0%|          | 0/5 [01:47<?, ?it/s]"
     ]
    },
    {
     "name": "stdout",
     "output_type": "stream",
     "text": [
      "--------------------------------------------- Result 8 ---------------------------------------------\n",
      "[[Sci/tech (100%)]] --> [[[FAILED]]]\n",
      "\n",
      "FOAFKey: FOAF, PGP, Key Distribution, and Bloom Filters \\\\FOAF/LOAF  and bloom filters have a lot of interesting properties for social\\network and whitelist distribution.\\\\I think we can go one level higher though and include GPG/OpenPGP key\\fingerpring distribution in the FOAF file for simple web-of-trust based key\\distribution.\\\\What if we used FOAF and included the PGP key fingerprint(s) for identities?\\This could mean a lot.  You include the PGP key fingerprints within the FOAF\\file of your direct friends and then include a bloom filter of the PGP key\\fingerprints of your entire whitelist (the source FOAF file would of course need\\to be encrypted ).\\\\Your whitelist would be populated from the social network as your client\\discovered new identit ...\\\\\n",
      "\n",
      "\n"
     ]
    },
    {
     "name": "stderr",
     "output_type": "stream",
     "text": [
      "[Succeeded / Failed / Skipped / Total] 0 / 9 / 1 / 10:   0%|          | 0/5 [01:48<?, ?it/s]"
     ]
    },
    {
     "name": "stdout",
     "output_type": "stream",
     "text": [
      "--------------------------------------------- Result 9 ---------------------------------------------\n",
      "[[Sci/tech (73%)]] --> [[[FAILED]]]\n",
      "\n",
      "E-mail scam targets police chief Wiltshire Police warns about \"phishing\" after its fraud squad chief was targeted.\n",
      "\n",
      "\n",
      "--------------------------------------------- Result 10 ---------------------------------------------\n",
      "[[Business (81%)]] --> [[[SKIPPED]]]\n",
      "\n",
      "Card fraud unit nets 36,000 cards In its first two years, the UK's dedicated card fraud unit, has recovered 36,000 stolen cards and 171 arrests - and estimates it saved 65m.\n",
      "\n",
      "\n"
     ]
    },
    {
     "name": "stderr",
     "output_type": "stream",
     "text": [
      "[Succeeded / Failed / Skipped / Total] 0 / 10 / 1 / 11:   0%|          | 0/5 [01:56<?, ?it/s]"
     ]
    },
    {
     "name": "stdout",
     "output_type": "stream",
     "text": [
      "--------------------------------------------- Result 11 ---------------------------------------------\n",
      "[[Sci/tech (100%)]] --> [[[FAILED]]]\n",
      "\n",
      "Group to Propose New High-Speed Wireless Format  LOS ANGELES (Reuters) - A group of technology companies  including Texas Instruments Inc. &lt;TXN.N&gt;, STMicroelectronics  &lt;STM.PA&gt; and Broadcom Corp. &lt;BRCM.O&gt;, on Thursday said they  will propose a new wireless networking standard up to 10 times  the speed of the current generation.\n",
      "\n",
      "\n"
     ]
    },
    {
     "name": "stderr",
     "output_type": "stream",
     "text": [
      "[Succeeded / Failed / Skipped / Total] 0 / 11 / 1 / 12:   0%|          | 0/5 [02:02<?, ?it/s]"
     ]
    },
    {
     "name": "stdout",
     "output_type": "stream",
     "text": [
      "--------------------------------------------- Result 12 ---------------------------------------------\n",
      "[[Sci/tech (99%)]] --> [[[FAILED]]]\n",
      "\n",
      "Apple Launches Graphics Software, Video Bundle  LOS ANGELES (Reuters) - Apple Computer Inc.&lt;AAPL.O&gt; on  Tuesday began shipping a new program designed to let users  create real-time motion graphics and unveiled a discount  video-editing software bundle featuring its flagship Final Cut  Pro software.\n",
      "\n",
      "\n"
     ]
    },
    {
     "name": "stderr",
     "output_type": "stream",
     "text": [
      "[Succeeded / Failed / Skipped / Total] 0 / 12 / 1 / 13:   0%|          | 0/5 [02:07<?, ?it/s]"
     ]
    },
    {
     "name": "stdout",
     "output_type": "stream",
     "text": [
      "--------------------------------------------- Result 13 ---------------------------------------------\n",
      "[[Sci/tech (98%)]] --> [[[FAILED]]]\n",
      "\n",
      "Dutch Retailer Beats Apple to Local Download Market  AMSTERDAM (Reuters) - Free Record Shop, a Dutch music  retail chain, beat Apple Computer Inc. to market on Tuesday  with the launch of a new download service in Europe's latest  battleground for digital song services.\n",
      "\n",
      "\n"
     ]
    },
    {
     "name": "stderr",
     "output_type": "stream",
     "text": [
      "[Succeeded / Failed / Skipped / Total] 0 / 13 / 1 / 14:   0%|          | 0/5 [02:09<?, ?it/s]"
     ]
    },
    {
     "name": "stdout",
     "output_type": "stream",
     "text": [
      "--------------------------------------------- Result 14 ---------------------------------------------\n",
      "[[Sci/tech (83%)]] --> [[[FAILED]]]\n",
      "\n",
      "Super ant colony hits Australia A giant 100km colony of ants  which has been discovered in Melbourne, Australia, could threaten local insect species.\n",
      "\n",
      "\n"
     ]
    },
    {
     "name": "stderr",
     "output_type": "stream",
     "text": [
      "[Succeeded / Failed / Skipped / Total] 0 / 14 / 1 / 15:   0%|          | 0/5 [02:11<?, ?it/s]"
     ]
    },
    {
     "name": "stdout",
     "output_type": "stream",
     "text": [
      "--------------------------------------------- Result 15 ---------------------------------------------\n",
      "[[Sci/tech (75%)]] --> [[[FAILED]]]\n",
      "\n",
      "Socialites unite dolphin groups Dolphin groups, or \"pods\", rely on socialites to keep them from collapsing, scientists claim.\n",
      "\n",
      "\n"
     ]
    },
    {
     "name": "stderr",
     "output_type": "stream",
     "text": [
      "[Succeeded / Failed / Skipped / Total] 0 / 15 / 1 / 16:   0%|          | 0/5 [02:13<?, ?it/s]"
     ]
    },
    {
     "name": "stdout",
     "output_type": "stream",
     "text": [
      "--------------------------------------------- Result 16 ---------------------------------------------\n",
      "[[Sci/tech (83%)]] --> [[[FAILED]]]\n",
      "\n",
      "Teenage T. rex's monster growth Tyrannosaurus rex achieved its massive size due to an enormous growth spurt during its adolescent years.\n",
      "\n",
      "\n"
     ]
    },
    {
     "name": "stderr",
     "output_type": "stream",
     "text": [
      "[Succeeded / Failed / Skipped / Total] 0 / 16 / 1 / 17:   0%|          | 0/5 [02:19<?, ?it/s]"
     ]
    },
    {
     "name": "stdout",
     "output_type": "stream",
     "text": [
      "--------------------------------------------- Result 17 ---------------------------------------------\n",
      "[[Sci/tech (99%)]] --> [[[FAILED]]]\n",
      "\n",
      "Scientists Discover Ganymede has a Lumpy Interior Jet Propulsion Lab -- Scientists have discovered irregular lumps beneath the icy surface of Jupiter's largest moon, Ganymede. These irregular masses may be rock formations, supported by Ganymede's icy shell for billions of years...\n",
      "\n",
      "\n"
     ]
    },
    {
     "name": "stderr",
     "output_type": "stream",
     "text": [
      "[Succeeded / Failed / Skipped / Total] 0 / 17 / 1 / 18:   0%|          | 0/5 [02:28<?, ?it/s]"
     ]
    },
    {
     "name": "stdout",
     "output_type": "stream",
     "text": [
      "--------------------------------------------- Result 18 ---------------------------------------------\n",
      "[[Sci/tech (100%)]] --> [[[FAILED]]]\n",
      "\n",
      "Mars Rovers Relay Images Through Mars Express European Space Agency -- ESAs Mars Express has relayed pictures from one of NASA's Mars rovers for the first time, as part of a set of interplanetary networking demonstrations.     The demonstrations pave the way for future Mars missions to draw on joint interplanetary networking capabilities...\n",
      "\n",
      "\n"
     ]
    },
    {
     "name": "stderr",
     "output_type": "stream",
     "text": [
      "[Succeeded / Failed / Skipped / Total] 0 / 18 / 1 / 19:   0%|          | 0/5 [02:34<?, ?it/s]"
     ]
    },
    {
     "name": "stdout",
     "output_type": "stream",
     "text": [
      "--------------------------------------------- Result 19 ---------------------------------------------\n",
      "[[Sci/tech (98%)]] --> [[[FAILED]]]\n",
      "\n",
      "Rocking the Cradle of Life When did life begin? One evidential clue stems from the fossil records in Western Australia, although whether these layered sediments are biological or chemical has spawned a spirited debate. Oxford researcher, Nicola McLoughlin, describes some of the issues in contention.\n",
      "\n",
      "\n"
     ]
    },
    {
     "name": "stderr",
     "output_type": "stream",
     "text": [
      "[Succeeded / Failed / Skipped / Total] 0 / 19 / 1 / 20:   0%|          | 0/5 [02:36<?, ?it/s]"
     ]
    },
    {
     "name": "stdout",
     "output_type": "stream",
     "text": [
      "--------------------------------------------- Result 20 ---------------------------------------------\n",
      "[[Sci/tech (97%)]] --> [[[FAILED]]]\n",
      "\n",
      "Storage, servers bruise HP earnings update Earnings per share rise compared with a year ago, but company misses analysts' expectations by a long shot.\n",
      "\n",
      "\n"
     ]
    },
    {
     "name": "stderr",
     "output_type": "stream",
     "text": [
      "[Succeeded / Failed / Skipped / Total] 1 / 19 / 1 / 21:  20%|██        | 1/5 [02:38<10:33, 158.29s/it]"
     ]
    },
    {
     "name": "stdout",
     "output_type": "stream",
     "text": [
      "--------------------------------------------- Result 21 ---------------------------------------------\n",
      "[[Sci/tech (90%)]] --> [[Business (55%)]]\n",
      "\n",
      "IBM to hire even more [[new]] workers By the end of the year, the computing giant plans to have its biggest headcount since 1991.\n",
      "\n",
      "IBM to hire even more [[ny]] workers By the end of the year, the computing giant plans to have its biggest headcount since 1991.\n",
      "\n",
      "\n"
     ]
    },
    {
     "name": "stderr",
     "output_type": "stream",
     "text": [
      "[Succeeded / Failed / Skipped / Total] 1 / 20 / 1 / 22:  20%|██        | 1/5 [02:39<10:39, 159.96s/it]"
     ]
    },
    {
     "name": "stdout",
     "output_type": "stream",
     "text": [
      "--------------------------------------------- Result 22 ---------------------------------------------\n",
      "[[Sci/tech (99%)]] --> [[[FAILED]]]\n",
      "\n",
      "Sun's Looking Glass Provides 3D View Developers get early code for new operating system 'skin' still being crafted.\n",
      "\n",
      "\n"
     ]
    },
    {
     "name": "stderr",
     "output_type": "stream",
     "text": [
      "[Succeeded / Failed / Skipped / Total] 1 / 21 / 2 / 24:  20%|██        | 1/5 [02:41<10:45, 161.31s/it]"
     ]
    },
    {
     "name": "stdout",
     "output_type": "stream",
     "text": [
      "--------------------------------------------- Result 23 ---------------------------------------------\n",
      "[[Sci/tech (100%)]] --> [[[FAILED]]]\n",
      "\n",
      "IBM Chips May Someday Heal Themselves New technology applies electrical fuses to help identify and repair faults.\n",
      "\n",
      "\n",
      "--------------------------------------------- Result 24 ---------------------------------------------\n",
      "[[Business (69%)]] --> [[[SKIPPED]]]\n",
      "\n",
      "Some People Not Eligible to Get in on Google IPO Google has billed its IPO as a way for everyday people to get in on the process, denying Wall Street the usual stranglehold it's had on IPOs. Public bidding, a minimum of just five shares, an open process with 28 underwriters - all this pointed to a new level of public participation. But this isn't the case.\n",
      "\n",
      "\n"
     ]
    },
    {
     "name": "stderr",
     "output_type": "stream",
     "text": [
      "[Succeeded / Failed / Skipped / Total] 1 / 22 / 2 / 25:  20%|██        | 1/5 [02:45<11:03, 166.00s/it]"
     ]
    },
    {
     "name": "stdout",
     "output_type": "stream",
     "text": [
      "--------------------------------------------- Result 25 ---------------------------------------------\n",
      "[[Sci/tech (99%)]] --> [[[FAILED]]]\n",
      "\n",
      "Rivals Try to Turn Tables on Charles Schwab By MICHAEL LIEDTKE     SAN FRANCISCO (AP) -- With its low prices and iconoclastic attitude, discount stock broker Charles Schwab Corp. (SCH) represented an annoying stone in Wall Street's wing-tipped shoes for decades...\n",
      "\n",
      "\n"
     ]
    },
    {
     "name": "stderr",
     "output_type": "stream",
     "text": [
      "[Succeeded / Failed / Skipped / Total] 1 / 23 / 2 / 26:  20%|██        | 1/5 [02:48<11:14, 168.72s/it]"
     ]
    },
    {
     "name": "stdout",
     "output_type": "stream",
     "text": [
      "--------------------------------------------- Result 26 ---------------------------------------------\n",
      "[[Sci/tech (100%)]] --> [[[FAILED]]]\n",
      "\n",
      "News: Sluggish movement on power grid cyber security Industry cyber security standards fail to reach some of the most vulnerable components of the power grid.\\\n",
      "\n",
      "\n"
     ]
    },
    {
     "name": "stderr",
     "output_type": "stream",
     "text": [
      "[Succeeded / Failed / Skipped / Total] 1 / 24 / 2 / 27:  20%|██        | 1/5 [02:51<11:24, 171.10s/it]"
     ]
    },
    {
     "name": "stdout",
     "output_type": "stream",
     "text": [
      "--------------------------------------------- Result 27 ---------------------------------------------\n",
      "[[Sports (97%)]] --> [[[FAILED]]]\n",
      "\n",
      "Giddy Phelps Touches Gold for First Time Michael Phelps won the gold medal in the 400 individual medley and set a world record in a time of 4 minutes 8.26 seconds.\n",
      "\n",
      "\n"
     ]
    },
    {
     "name": "stderr",
     "output_type": "stream",
     "text": [
      "[Succeeded / Failed / Skipped / Total] 1 / 25 / 2 / 28:  20%|██        | 1/5 [03:01<12:05, 181.30s/it]"
     ]
    },
    {
     "name": "stdout",
     "output_type": "stream",
     "text": [
      "--------------------------------------------- Result 28 ---------------------------------------------\n",
      "[[Sports (100%)]] --> [[[FAILED]]]\n",
      "\n",
      "Tougher rules won't soften Law's game FOXBOROUGH -- Looking at his ridiculously developed upper body, with huge biceps and hardly an ounce of fat, it's easy to see why Ty Law, arguably the best cornerback in football, chooses physical play over finesse. That's not to imply that he's lacking a finesse component, because he can shut down his side of the field much as Deion Sanders ...\n",
      "\n",
      "\n"
     ]
    },
    {
     "name": "stderr",
     "output_type": "stream",
     "text": [
      "[Succeeded / Failed / Skipped / Total] 1 / 26 / 2 / 29:  20%|██        | 1/5 [03:10<12:43, 190.98s/it]"
     ]
    },
    {
     "name": "stdout",
     "output_type": "stream",
     "text": [
      "--------------------------------------------- Result 29 ---------------------------------------------\n",
      "[[Sports (100%)]] --> [[[FAILED]]]\n",
      "\n",
      "Shoppach doesn't appear ready to hit the next level With the weeks dwindling until Jason Varitek enters free agency, the Red Sox continue to carefully monitor Kelly Shoppach , their catcher of the future, in his climb toward the majors. The Sox like most of what they have seen at Triple A Pawtucket from Shoppach, though it remains highly uncertain whether he can make the adjustments at the plate ...\n",
      "\n",
      "\n"
     ]
    },
    {
     "name": "stderr",
     "output_type": "stream",
     "text": [
      "[Succeeded / Failed / Skipped / Total] 1 / 27 / 2 / 30:  20%|██        | 1/5 [03:20<13:23, 200.83s/it]"
     ]
    },
    {
     "name": "stdout",
     "output_type": "stream",
     "text": [
      "--------------------------------------------- Result 30 ---------------------------------------------\n",
      "[[Sports (100%)]] --> [[[FAILED]]]\n",
      "\n",
      "Mighty Ortiz makes sure Sox can rest easy Just imagine what David Ortiz could do on a good night's rest. Ortiz spent the night before last with his baby boy, D'Angelo, who is barely 1 month old. He had planned on attending the Red Sox' Family Day at Fenway Park yesterday morning, but he had to sleep in. After all, Ortiz had a son at home, and he ...\n",
      "\n",
      "\n"
     ]
    },
    {
     "name": "stderr",
     "output_type": "stream",
     "text": [
      "[Succeeded / Failed / Skipped / Total] 1 / 28 / 2 / 31:  20%|██        | 1/5 [03:23<13:35, 203.89s/it]"
     ]
    },
    {
     "name": "stdout",
     "output_type": "stream",
     "text": [
      "--------------------------------------------- Result 31 ---------------------------------------------\n",
      "[[Sports (100%)]] --> [[[FAILED]]]\n",
      "\n",
      "They've caught his eye In  quot;helping themselves, quot; Ricky Bryant, Chas Gessner, Michael Jennings, and David Patten did nothing Friday night to make Bill Belichick's decision on what to do with his receivers any easier.\n",
      "\n",
      "\n"
     ]
    },
    {
     "name": "stderr",
     "output_type": "stream",
     "text": [
      "[Succeeded / Failed / Skipped / Total] 1 / 29 / 2 / 32:  20%|██        | 1/5 [03:27<13:49, 207.26s/it]"
     ]
    },
    {
     "name": "stdout",
     "output_type": "stream",
     "text": [
      "--------------------------------------------- Result 32 ---------------------------------------------\n",
      "[[Sports (100%)]] --> [[[FAILED]]]\n",
      "\n",
      "Indians Mount Charge The Cleveland Indians pulled within one game of the AL Central lead by beating the Minnesota Twins, 7-1, Saturday night with home runs by Travis Hafner and Victor Martinez.\n",
      "\n",
      "\n"
     ]
    },
    {
     "name": "stderr",
     "output_type": "stream",
     "text": [
      "[Succeeded / Failed / Skipped / Total] 1 / 30 / 2 / 33:  20%|██        | 1/5 [03:32<14:09, 212.47s/it]"
     ]
    },
    {
     "name": "stdout",
     "output_type": "stream",
     "text": [
      "--------------------------------------------- Result 33 ---------------------------------------------\n",
      "[[World (100%)]] --> [[[FAILED]]]\n",
      "\n",
      "Sister of man who died in Vancouver police custody slams chief (Canadian Press) Canadian Press - VANCOUVER (CP) - The sister of a man who died after a violent confrontation with police has demanded the city's chief constable resign for defending the officer involved.\n",
      "\n",
      "\n"
     ]
    },
    {
     "name": "stderr",
     "output_type": "stream",
     "text": [
      "[Succeeded / Failed / Skipped / Total] 1 / 31 / 2 / 34:  20%|██        | 1/5 [03:38<14:34, 218.63s/it]"
     ]
    },
    {
     "name": "stdout",
     "output_type": "stream",
     "text": [
      "--------------------------------------------- Result 34 ---------------------------------------------\n",
      "[[World (100%)]] --> [[[FAILED]]]\n",
      "\n",
      "Man Sought  #36;50M From McGreevey, Aides Say (AP) AP - The man who claims Gov. James E. McGreevey sexually harassed him was pushing for a cash settlement of up to  #36;50 million before the governor decided to announce that he was gay and had an extramarital affair, sources told The Associated Press.\n",
      "\n",
      "\n"
     ]
    },
    {
     "name": "stderr",
     "output_type": "stream",
     "text": [
      "[Succeeded / Failed / Skipped / Total] 1 / 32 / 2 / 35:  20%|██        | 1/5 [03:45<15:00, 225.16s/it]"
     ]
    },
    {
     "name": "stdout",
     "output_type": "stream",
     "text": [
      "--------------------------------------------- Result 35 ---------------------------------------------\n",
      "[[World (100%)]] --> [[[FAILED]]]\n",
      "\n",
      "Explosions Echo Throughout Najaf NAJAF, Iraq - Explosions and gunfire rattled through the city of Najaf as U.S. troops in armored vehicles and tanks rolled back into the streets here Sunday, a day after the collapse of talks - and with them a temporary cease-fire - intended to end the fighting in this holy city...\n",
      "\n",
      "\n"
     ]
    },
    {
     "name": "stderr",
     "output_type": "stream",
     "text": [
      "[Succeeded / Failed / Skipped / Total] 1 / 33 / 2 / 36:  20%|██        | 1/5 [03:56<15:44, 236.08s/it]"
     ]
    },
    {
     "name": "stdout",
     "output_type": "stream",
     "text": [
      "--------------------------------------------- Result 36 ---------------------------------------------\n",
      "[[World (100%)]] --> [[[FAILED]]]\n",
      "\n",
      "Frail Pope Celebrates Mass at Lourdes LOURDES, France - A frail Pope John Paul II, breathing heavily and gasping at times, celebrated an open-air Mass on Sunday for several hundred thousand pilgrims, many in wheelchairs, at a shrine to the Virgin Mary that is associated with miraculous cures.    At one point he said \"help me\" in Polish while struggling through his homily in French...\n",
      "\n",
      "\n"
     ]
    },
    {
     "name": "stderr",
     "output_type": "stream",
     "text": [
      "[Succeeded / Failed / Skipped / Total] 1 / 34 / 2 / 37:  20%|██        | 1/5 [03:58<15:53, 238.47s/it]"
     ]
    },
    {
     "name": "stdout",
     "output_type": "stream",
     "text": [
      "--------------------------------------------- Result 37 ---------------------------------------------\n",
      "[[World (59%)]] --> [[[FAILED]]]\n",
      "\n",
      "Venezuela Prepares for Chavez Recall Vote Supporters and rivals warn of possible fraud; government says Chavez's defeat could produce turmoil in world oil market.\n",
      "\n",
      "\n"
     ]
    },
    {
     "name": "stderr",
     "output_type": "stream",
     "text": [
      "[Succeeded / Failed / Skipped / Total] 1 / 35 / 2 / 38:  20%|██        | 1/5 [04:03<16:13, 243.45s/it]"
     ]
    },
    {
     "name": "stdout",
     "output_type": "stream",
     "text": [
      "--------------------------------------------- Result 38 ---------------------------------------------\n",
      "[[World (100%)]] --> [[[FAILED]]]\n",
      "\n",
      "1994 Law Designed to Preserve Guard Jobs (AP) AP - A 1994 law strengthened job protections for National Guard and Reserve troops called to active duty. Here are major provisions of the Uniformed Services Employment and Reemployment Rights Act (USERRA).\n",
      "\n",
      "\n"
     ]
    },
    {
     "name": "stderr",
     "output_type": "stream",
     "text": [
      "[Succeeded / Failed / Skipped / Total] 1 / 36 / 2 / 39:  20%|██        | 1/5 [04:09<16:37, 249.48s/it]"
     ]
    },
    {
     "name": "stdout",
     "output_type": "stream",
     "text": [
      "--------------------------------------------- Result 39 ---------------------------------------------\n",
      "[[World (100%)]] --> [[[FAILED]]]\n",
      "\n",
      "Iran Warns Its Missiles Can Hit Anywhere in Israel  TEHRAN (Reuters) - A senior Iranian military official said  Sunday Israel and the United States would not dare attack Iran  since it could strike back anywhere in Israel with its latest  missiles, news agencies reported.\n",
      "\n",
      "\n"
     ]
    },
    {
     "name": "stderr",
     "output_type": "stream",
     "text": [
      "[Succeeded / Failed / Skipped / Total] 1 / 37 / 2 / 40:  20%|██        | 1/5 [04:15<17:00, 255.01s/it]"
     ]
    },
    {
     "name": "stdout",
     "output_type": "stream",
     "text": [
      "--------------------------------------------- Result 40 ---------------------------------------------\n",
      "[[World (100%)]] --> [[[FAILED]]]\n",
      "\n",
      "Afghan Army Dispatched to Calm Violence KABUL, Afghanistan - Government troops intervened in Afghanistan's latest outbreak of deadly fighting between warlords, flying from the capital to the far west on U.S. and NATO airplanes to retake an air base contested in the violence, officials said Sunday...\n",
      "\n",
      "\n"
     ]
    },
    {
     "name": "stderr",
     "output_type": "stream",
     "text": [
      "[Succeeded / Failed / Skipped / Total] 1 / 38 / 2 / 41:  20%|██        | 1/5 [04:18<17:15, 258.88s/it]"
     ]
    },
    {
     "name": "stdout",
     "output_type": "stream",
     "text": [
      "--------------------------------------------- Result 41 ---------------------------------------------\n",
      "[[Sports (100%)]] --> [[[FAILED]]]\n",
      "\n",
      "Johnson Helps D-Backs End Nine-Game Slide (AP) AP - Randy Johnson took a four-hitter into the ninth inning to help the Arizona Diamondbacks end a nine-game losing streak Sunday, beating Steve Trachsel and the New York Mets 2-0.\n",
      "\n",
      "\n"
     ]
    },
    {
     "name": "stderr",
     "output_type": "stream",
     "text": [
      "[Succeeded / Failed / Skipped / Total] 1 / 39 / 2 / 42:  20%|██        | 1/5 [04:23<17:35, 263.83s/it]"
     ]
    },
    {
     "name": "stdout",
     "output_type": "stream",
     "text": [
      "--------------------------------------------- Result 42 ---------------------------------------------\n",
      "[[Business (100%)]] --> [[[FAILED]]]\n",
      "\n",
      "Retailers Vie for Back-To-School Buyers (Reuters) Reuters - Apparel retailers are hoping their\\back-to-school fashions will make the grade among\\style-conscious teens and young adults this fall, but it could\\be a tough sell, with students and parents keeping a tighter\\hold on their wallets.\n",
      "\n",
      "\n"
     ]
    },
    {
     "name": "stderr",
     "output_type": "stream",
     "text": [
      "[Succeeded / Failed / Skipped / Total] 1 / 40 / 2 / 43:  20%|██        | 1/5 [04:29<17:58, 269.73s/it]"
     ]
    },
    {
     "name": "stdout",
     "output_type": "stream",
     "text": [
      "--------------------------------------------- Result 43 ---------------------------------------------\n",
      "[[World (100%)]] --> [[[FAILED]]]\n",
      "\n",
      "Politics an Afterthought Amid Hurricane (AP) AP - If Hurricane Charley had struck three years ago, President Bush's tour through the wreckage of this coastal city would have been just the sort of post-disaster visit that other presidents have made to the scenes of storms, earthquakes, floods and fires.\n",
      "\n",
      "\n"
     ]
    },
    {
     "name": "stderr",
     "output_type": "stream",
     "text": [
      "[Succeeded / Failed / Skipped / Total] 1 / 41 / 2 / 44:  20%|██        | 1/5 [04:35<18:21, 275.50s/it]"
     ]
    },
    {
     "name": "stdout",
     "output_type": "stream",
     "text": [
      "--------------------------------------------- Result 44 ---------------------------------------------\n",
      "[[Sci/tech (99%)]] --> [[[FAILED]]]\n",
      "\n",
      "Spam suspension hits Sohu.com shares (FT.com) FT.com - Shares in Sohu.com, a leading US-listed Chinese internet portal, fell more than 10 per cent on Friday after China's biggest mobile phone network operator imposed a one-year suspension on its multimedia messaging services because of customers being sent spam.\n",
      "\n",
      "\n"
     ]
    },
    {
     "name": "stderr",
     "output_type": "stream",
     "text": [
      "[Succeeded / Failed / Skipped / Total] 1 / 42 / 2 / 45:  20%|██        | 1/5 [04:41<18:45, 281.37s/it]"
     ]
    },
    {
     "name": "stdout",
     "output_type": "stream",
     "text": [
      "--------------------------------------------- Result 45 ---------------------------------------------\n",
      "[[Sports (100%)]] --> [[[FAILED]]]\n",
      "\n",
      "Erstad's Double Lifts Angels to Win (AP) AP - Darin Erstad doubled in the go-ahead run in the eighth inning, lifting the Anaheim Angels to a 3-2 victory over the Detroit Tigers on Sunday. The win pulled Anaheim within a percentage point of Boston and Texas in the AL wild-card race.\n",
      "\n",
      "\n"
     ]
    },
    {
     "name": "stderr",
     "output_type": "stream",
     "text": [
      "[Succeeded / Failed / Skipped / Total] 1 / 43 / 2 / 46:  20%|██        | 1/5 [04:44<18:57, 284.49s/it]"
     ]
    },
    {
     "name": "stdout",
     "output_type": "stream",
     "text": [
      "--------------------------------------------- Result 46 ---------------------------------------------\n",
      "[[Sports (100%)]] --> [[[FAILED]]]\n",
      "\n",
      "Drew Out of Braves' Lineup After Injury (AP) AP - Outfielder J.D. Drew missed the Atlanta Braves' game against the St. Louis Cardinals on Sunday night with a sore right quadriceps.\n",
      "\n",
      "\n"
     ]
    },
    {
     "name": "stderr",
     "output_type": "stream",
     "text": [
      "[Succeeded / Failed / Skipped / Total] 1 / 44 / 2 / 47:  20%|██        | 1/5 [04:48<19:14, 288.68s/it]"
     ]
    },
    {
     "name": "stdout",
     "output_type": "stream",
     "text": [
      "--------------------------------------------- Result 47 ---------------------------------------------\n",
      "[[World (85%)]] --> [[[FAILED]]]\n",
      "\n",
      "Venezuelans Flood Polls, Voting Extended  CARACAS, Venezuela (Reuters) - Venezuelans voted in huge  numbers on Sunday in a historic referendum on whether to recall  left-wing President Hugo Chavez and electoral authorities  prolonged voting well into the night.\n",
      "\n",
      "\n"
     ]
    },
    {
     "name": "stderr",
     "output_type": "stream",
     "text": [
      "[Succeeded / Failed / Skipped / Total] 2 / 44 / 2 / 48:  40%|████      | 2/5 [04:50<07:15, 145.19s/it]"
     ]
    },
    {
     "name": "stdout",
     "output_type": "stream",
     "text": [
      "--------------------------------------------- Result 48 ---------------------------------------------\n",
      "[[Sci/tech (59%)]] --> [[Business (66%)]]\n",
      "\n",
      "Dell Exits Low-End China Consumer PC Market  HONG KONG (Reuters) - Dell Inc. &lt;DELL.O&gt;, the world's  largest PC maker, said on Monday it has left the low-end  consumer PC market in China and cut its [[overall]] growth target  for the country this year due to stiff competition in the  segment.\n",
      "\n",
      "Dell Exits Low-End China Consumer PC Market  HONG KONG (Reuters) - Dell Inc. &lt;DELL.O&gt;, the world's  largest PC maker, said on Monday it has left the low-end  consumer PC market in China and cut its [[plenary]] growth target  for the country this year due to stiff competition in the  segment.\n",
      "\n",
      "\n"
     ]
    },
    {
     "name": "stderr",
     "output_type": "stream",
     "text": [
      "[Succeeded / Failed / Skipped / Total] 2 / 45 / 2 / 49:  40%|████      | 2/5 [04:54<07:21, 147.20s/it]"
     ]
    },
    {
     "name": "stdout",
     "output_type": "stream",
     "text": [
      "--------------------------------------------- Result 49 ---------------------------------------------\n",
      "[[World (100%)]] --> [[[FAILED]]]\n",
      "\n",
      "China Says Taiwan Spy Also Operated in U.S. - Media  BEIJING (Reuters) - Beijing on Monday accused a  Chinese-American arrested for spying for Taiwan of building an  espionage network in the United States, and said he could go on  trial very soon.\n",
      "\n",
      "\n"
     ]
    },
    {
     "name": "stderr",
     "output_type": "stream",
     "text": [
      "[Succeeded / Failed / Skipped / Total] 2 / 46 / 2 / 50:  40%|████      | 2/5 [04:58<07:27, 149.10s/it]"
     ]
    },
    {
     "name": "stdout",
     "output_type": "stream",
     "text": [
      "--------------------------------------------- Result 50 ---------------------------------------------\n",
      "[[Sports (100%)]] --> [[[FAILED]]]\n",
      "\n",
      "Another Major Non-Factor Another major, another disappointment for Tiger Woods, the No. 1 ranked player in the world who has not won a major championship since his triumph at the 2002 U.S. Open.\n",
      "\n",
      "\n"
     ]
    },
    {
     "name": "stderr",
     "output_type": "stream",
     "text": [
      "[Succeeded / Failed / Skipped / Total] 2 / 47 / 2 / 51:  40%|████      | 2/5 [05:04<07:36, 152.29s/it]"
     ]
    },
    {
     "name": "stdout",
     "output_type": "stream",
     "text": [
      "--------------------------------------------- Result 51 ---------------------------------------------\n",
      "[[World (100%)]] --> [[[FAILED]]]\n",
      "\n",
      "US fighter squadron to be deployed in South Korea next month (AFP) AFP - A squadron of US Air Force F-15E fighters based in Alaska will fly to South Korea next month for temporary deployment aimed at enhancing US firepower on the Korean peninsula, US authorities said.\n",
      "\n",
      "\n"
     ]
    },
    {
     "name": "stderr",
     "output_type": "stream",
     "text": [
      "[Succeeded / Failed / Skipped / Total] 2 / 48 / 2 / 52:  40%|████      | 2/5 [05:09<07:44, 154.89s/it]"
     ]
    },
    {
     "name": "stdout",
     "output_type": "stream",
     "text": [
      "--------------------------------------------- Result 52 ---------------------------------------------\n",
      "[[Sports (100%)]] --> [[[FAILED]]]\n",
      "\n",
      "Johnson Back to His Best as D-Backs End Streak  NEW YORK (Reuters) - Randy Johnson struck out 14 batters in  8 1/3 innings to help the Arizona Diamondbacks end a nine-game  losing streak with a 2-0 win over the host New York Mets in the  National League Sunday.\n",
      "\n",
      "\n"
     ]
    },
    {
     "name": "stderr",
     "output_type": "stream",
     "text": [
      "[Succeeded / Failed / Skipped / Total] 2 / 49 / 2 / 53:  40%|████      | 2/5 [05:14<07:51, 157.12s/it]"
     ]
    },
    {
     "name": "stdout",
     "output_type": "stream",
     "text": [
      "--------------------------------------------- Result 53 ---------------------------------------------\n",
      "[[World (100%)]] --> [[[FAILED]]]\n",
      "\n",
      "Restive Maldives eases curfew after rounding up dissidents (AFP) AFP - A curfew in the capital of the Maldives was eased but parliament sessions were put off indefinitely and emergency rule continued following last week's riots, officials and residents said.\n",
      "\n",
      "\n"
     ]
    },
    {
     "name": "stderr",
     "output_type": "stream",
     "text": [
      "[Succeeded / Failed / Skipped / Total] 2 / 50 / 2 / 54:  40%|████      | 2/5 [05:16<07:54, 158.07s/it]"
     ]
    },
    {
     "name": "stdout",
     "output_type": "stream",
     "text": [
      "--------------------------------------------- Result 54 ---------------------------------------------\n",
      "[[Sci/tech (100%)]] --> [[[FAILED]]]\n",
      "\n",
      "Vodafone hires Citi for Cesky bid (TheDeal.com) TheDeal.com - The U.K. mobile giant wants to find a way to disentagle the Czech wireless and fixed-line businesses.\n",
      "\n",
      "\n"
     ]
    },
    {
     "name": "stderr",
     "output_type": "stream",
     "text": [
      "[Succeeded / Failed / Skipped / Total] 2 / 51 / 3 / 56:  40%|████      | 2/5 [05:22<08:03, 161.16s/it]"
     ]
    },
    {
     "name": "stdout",
     "output_type": "stream",
     "text": [
      "--------------------------------------------- Result 55 ---------------------------------------------\n",
      "[[Business (100%)]] --> [[[FAILED]]]\n",
      "\n",
      "Dollar Briefly Hits 4-Wk Low Vs Euro  LONDON (Reuters) - The dollar dipped to a four-week low  against the euro on Monday before rising slightly on  profit-taking, but steep oil prices and weak U.S. data  continued to fan worries about the health of the world's  largest economy.\n",
      "\n",
      "\n",
      "--------------------------------------------- Result 56 ---------------------------------------------\n",
      "[[Business (85%)]] --> [[[SKIPPED]]]\n",
      "\n",
      "Promoting a Shared Vision As Michael Kaleko kept running into people who were getting older and having more vision problems, he realized he could do something about it.\n",
      "\n",
      "\n"
     ]
    },
    {
     "name": "stderr",
     "output_type": "stream",
     "text": [
      "[Succeeded / Failed / Skipped / Total] 2 / 52 / 3 / 57:  40%|████      | 2/5 [05:26<08:09, 163.32s/it]"
     ]
    },
    {
     "name": "stdout",
     "output_type": "stream",
     "text": [
      "--------------------------------------------- Result 57 ---------------------------------------------\n",
      "[[World (100%)]] --> [[[FAILED]]]\n",
      "\n",
      "India's Tata expands regional footprint via NatSteel buyout (AFP) AFP - India's Tata Iron and Steel Company Ltd. took a strategic step to expand its Asian footprint with the announcement it will buy the Asia-Pacific steel operations of Singapore's NatSteel Ltd.\n",
      "\n",
      "\n"
     ]
    },
    {
     "name": "stderr",
     "output_type": "stream",
     "text": [
      "[Succeeded / Failed / Skipped / Total] 2 / 53 / 3 / 58:  40%|████      | 2/5 [05:31<08:17, 165.91s/it]"
     ]
    },
    {
     "name": "stdout",
     "output_type": "stream",
     "text": [
      "--------------------------------------------- Result 58 ---------------------------------------------\n",
      "[[World (100%)]] --> [[[FAILED]]]\n",
      "\n",
      "Delegates Urge Cleric to Pull Out of Najaf BAGHDAD, Iraq - Delegates at Iraq's National Conference called on radical Shiite cleric Muqtada al-Sadr to abandon his uprising against U.S. and Iraqi troops and pull his fighters out of a holy shrine in Najaf...\n",
      "\n",
      "\n"
     ]
    },
    {
     "name": "stderr",
     "output_type": "stream",
     "text": [
      "[Succeeded / Failed / Skipped / Total] 2 / 54 / 3 / 59:  40%|████      | 2/5 [05:35<08:22, 167.54s/it]"
     ]
    },
    {
     "name": "stdout",
     "output_type": "stream",
     "text": [
      "--------------------------------------------- Result 59 ---------------------------------------------\n",
      "[[Business (100%)]] --> [[[FAILED]]]\n",
      "\n",
      "Treasuries Slip as Stocks Rally  NEW YORK (Reuters) - U.S. Treasury debt prices slipped on  Monday, though traders characterized the move as profit-taking  rather than any fundamental change in sentiment.\n",
      "\n",
      "\n"
     ]
    },
    {
     "name": "stderr",
     "output_type": "stream",
     "text": [
      "[Succeeded / Failed / Skipped / Total] 2 / 55 / 3 / 60:  40%|████      | 2/5 [05:40<08:30, 170.33s/it]"
     ]
    },
    {
     "name": "stdout",
     "output_type": "stream",
     "text": [
      "--------------------------------------------- Result 60 ---------------------------------------------\n",
      "[[Business (100%)]] --> [[[FAILED]]]\n",
      "\n",
      "Dollar Rises Vs Euro on Asset Flows Data  NEW YORK (Reuters) - The dollar extended gains against the  euro on Monday after a report on flows into U.S. assets showed  enough of a rise in foreign investments to offset the current  account gap for the month.\n",
      "\n",
      "\n"
     ]
    },
    {
     "name": "stderr",
     "output_type": "stream",
     "text": [
      "[Succeeded / Failed / Skipped / Total] 2 / 56 / 3 / 61:  40%|████      | 2/5 [05:44<08:36, 172.28s/it]"
     ]
    },
    {
     "name": "stdout",
     "output_type": "stream",
     "text": [
      "--------------------------------------------- Result 61 ---------------------------------------------\n",
      "[[Sports (100%)]] --> [[[FAILED]]]\n",
      "\n",
      "Sutton Adds Haas, Cink to Ryder Cup Team  MILWAUKEE (Sports Network) - U.S. Ryder Cup captain Hal  Sutton finalized his team on Monday when he announced the  selections of Jay Haas and Stewart Cink as his captain's picks.\n",
      "\n",
      "\n"
     ]
    },
    {
     "name": "stderr",
     "output_type": "stream",
     "text": [
      "[Succeeded / Failed / Skipped / Total] 2 / 57 / 3 / 62:  40%|████      | 2/5 [05:47<08:41, 173.80s/it]"
     ]
    },
    {
     "name": "stdout",
     "output_type": "stream",
     "text": [
      "--------------------------------------------- Result 62 ---------------------------------------------\n",
      "[[Sports (100%)]] --> [[[FAILED]]]\n",
      "\n",
      "Haas and Cink Selected for Ryder Cup Team Jay Haas joined Stewart Cink as the two captain's picks for a U.S. team that will try to regain the cup from Europe next month.\n",
      "\n",
      "\n"
     ]
    },
    {
     "name": "stderr",
     "output_type": "stream",
     "text": [
      "[Succeeded / Failed / Skipped / Total] 2 / 58 / 3 / 63:  40%|████      | 2/5 [05:56<08:54, 178.25s/it]"
     ]
    },
    {
     "name": "stdout",
     "output_type": "stream",
     "text": [
      "--------------------------------------------- Result 63 ---------------------------------------------\n",
      "[[Sports (100%)]] --> [[[FAILED]]]\n",
      "\n",
      "Natalie Coughlin Wins 100M Backstroke (AP) AP - American Natalie Coughlin won Olympic gold in the 100-meter backstroke Monday night. Coughlin, the only woman ever to swim under 1 minute in the event, finished first in 1 minute, 0.37 seconds. Kirsty Coventry of Zimbabwe, who swims at Auburn University in Alabama, earned the silver in 1:00.50. Laure Manaudou of France took bronze in 1:00.88.\n",
      "\n",
      "\n"
     ]
    },
    {
     "name": "stderr",
     "output_type": "stream",
     "text": [
      "[Succeeded / Failed / Skipped / Total] 2 / 59 / 3 / 64:  40%|████      | 2/5 [05:58<08:58, 179.40s/it]"
     ]
    },
    {
     "name": "stdout",
     "output_type": "stream",
     "text": [
      "--------------------------------------------- Result 64 ---------------------------------------------\n",
      "[[Sci/tech (100%)]] --> [[[FAILED]]]\n",
      "\n",
      "Oracle Overhauls Sales-Side Apps for CRM Suite (NewsFactor) NewsFactor - Oracle (Nasdaq: ORCL) has revamped its sales-side CRM applications in version 11i.10 of its sales, marketing, partner relationship management and e-commerce application.\n",
      "\n",
      "\n"
     ]
    },
    {
     "name": "stderr",
     "output_type": "stream",
     "text": [
      "[Succeeded / Failed / Skipped / Total] 2 / 60 / 3 / 65:  40%|████      | 2/5 [06:03<09:05, 181.68s/it]"
     ]
    },
    {
     "name": "stdout",
     "output_type": "stream",
     "text": [
      "--------------------------------------------- Result 65 ---------------------------------------------\n",
      "[[World (100%)]] --> [[[FAILED]]]\n",
      "\n",
      "UN launches 210-million-dollar appeal for flood-hit Bangladesh (AFP) AFP - The United Nations launched an appeal here for 210 million dollars to help flood victims facing \"grave\" food shortages after two-thirds of Bangladesh was submerged, destroying crops and killing more than 700 people.\n",
      "\n",
      "\n"
     ]
    },
    {
     "name": "stderr",
     "output_type": "stream",
     "text": [
      "[Succeeded / Failed / Skipped / Total] 2 / 61 / 3 / 66:  40%|████      | 2/5 [06:06<09:09, 183.04s/it]"
     ]
    },
    {
     "name": "stdout",
     "output_type": "stream",
     "text": [
      "--------------------------------------------- Result 66 ---------------------------------------------\n",
      "[[Sci/tech (91%)]] --> [[[FAILED]]]\n",
      "\n",
      "Indian state rolls out wireless broadband Government in South Indian state of Kerala sets up wireless kiosks as part of initiative to bridge digital divide.\n",
      "\n",
      "\n"
     ]
    },
    {
     "name": "stderr",
     "output_type": "stream",
     "text": [
      "[Succeeded / Failed / Skipped / Total] 2 / 62 / 3 / 67:  40%|████      | 2/5 [06:10<09:15, 185.29s/it]"
     ]
    },
    {
     "name": "stdout",
     "output_type": "stream",
     "text": [
      "--------------------------------------------- Result 67 ---------------------------------------------\n",
      "[[World (100%)]] --> [[[FAILED]]]\n",
      "\n",
      "Hurricane Survivors Wait for Water, Gas PUNTA GORDA, Fla. - Urban rescue teams, insurance adjusters and National Guard troops scattered across Florida Monday to help victims of Hurricane Charley and deliver water and other supplies to thousands of people left homeless...\n",
      "\n",
      "\n"
     ]
    },
    {
     "name": "stderr",
     "output_type": "stream",
     "text": [
      "[Succeeded / Failed / Skipped / Total] 2 / 63 / 3 / 68:  40%|████      | 2/5 [06:15<09:22, 187.51s/it]"
     ]
    },
    {
     "name": "stdout",
     "output_type": "stream",
     "text": [
      "--------------------------------------------- Result 68 ---------------------------------------------\n",
      "[[World (100%)]] --> [[[FAILED]]]\n",
      "\n",
      "Jackson Squares Off With Prosecutor SANTA MARIA, Calif. - Fans of Michael Jackson erupted in cheers Monday as the pop star emerged from a double-decker tour bus and went into court for a showdown with the prosecutor who has pursued him for years on child molestation charges...\n",
      "\n",
      "\n"
     ]
    },
    {
     "name": "stderr",
     "output_type": "stream",
     "text": [
      "[Succeeded / Failed / Skipped / Total] 2 / 64 / 3 / 69:  40%|████      | 2/5 [06:17<09:26, 188.79s/it]"
     ]
    },
    {
     "name": "stdout",
     "output_type": "stream",
     "text": [
      "--------------------------------------------- Result 69 ---------------------------------------------\n",
      "[[Sports (100%)]] --> [[[FAILED]]]\n",
      "\n",
      "Bobcats Trade Drobnjak to Hawks for Pick (AP) AP - The Charlotte Bobcats traded center Predrag Drobnjak to the Atlanta Hawks on Monday for a second round pick in the 2005 NBA draft.\n",
      "\n",
      "\n"
     ]
    },
    {
     "name": "stderr",
     "output_type": "stream",
     "text": [
      "[Succeeded / Failed / Skipped / Total] 2 / 65 / 3 / 70:  40%|████      | 2/5 [06:22<09:34, 191.34s/it]"
     ]
    },
    {
     "name": "stdout",
     "output_type": "stream",
     "text": [
      "--------------------------------------------- Result 70 ---------------------------------------------\n",
      "[[World (100%)]] --> [[[FAILED]]]\n",
      "\n",
      "Suspect charged in abduction, sexual assault of 11-year-old girl (Canadian Press) Canadian Press - LANGLEY, B.C. (CP) - Police have arrested a man in the kidnapping and sexual assault of an 11-year-old girl that frightened this suburban Vancouver community last week.\n",
      "\n",
      "\n"
     ]
    },
    {
     "name": "stderr",
     "output_type": "stream",
     "text": [
      "[Succeeded / Failed / Skipped / Total] 2 / 66 / 3 / 71:  40%|████      | 2/5 [06:26<09:40, 193.41s/it]"
     ]
    },
    {
     "name": "stdout",
     "output_type": "stream",
     "text": [
      "--------------------------------------------- Result 71 ---------------------------------------------\n",
      "[[Sci/tech (100%)]] --> [[[FAILED]]]\n",
      "\n",
      "China's Red Flag Linux to focus on enterprise Red Flag Software Co., the company behind China's leading Linux client distribution, plans to focus more on its server operating system and enterprise customers, the company's acting president said.\n",
      "\n",
      "\n"
     ]
    },
    {
     "name": "stderr",
     "output_type": "stream",
     "text": [
      "[Succeeded / Failed / Skipped / Total] 2 / 67 / 3 / 72:  40%|████      | 2/5 [06:36<09:54, 198.06s/it]"
     ]
    },
    {
     "name": "stdout",
     "output_type": "stream",
     "text": [
      "--------------------------------------------- Result 72 ---------------------------------------------\n",
      "[[Sci/tech (100%)]] --> [[[FAILED]]]\n",
      "\n",
      "AOL Properties Sign Girafa For Thumbnail Search Images AOL Properties Sign Girafa For Thumbnail Search Images\\\\Girafa.com Inc. announced today that the CompuServe, Netscape, AIM and ICQ properties of America Online, Inc., have signed an agreement with Girafa to use Girafa's thumbnail search images as an integrated part of their search results.\\\\Using Girafa's thumbnail search service, search users can ...\n",
      "\n",
      "\n"
     ]
    },
    {
     "name": "stderr",
     "output_type": "stream",
     "text": [
      "[Succeeded / Failed / Skipped / Total] 2 / 68 / 3 / 73:  40%|████      | 2/5 [06:39<09:59, 199.78s/it]"
     ]
    },
    {
     "name": "stdout",
     "output_type": "stream",
     "text": [
      "--------------------------------------------- Result 73 ---------------------------------------------\n",
      "[[Sci/tech (100%)]] --> [[[FAILED]]]\n",
      "\n",
      "Cassini Spies Two Little Saturn Moons (AP) AP - NASA's Cassini spacecraft has spied two new little moons around satellite-rich Saturn, the space agency said Monday.\n",
      "\n",
      "\n"
     ]
    },
    {
     "name": "stderr",
     "output_type": "stream",
     "text": [
      "[Succeeded / Failed / Skipped / Total] 2 / 69 / 3 / 74:  40%|████      | 2/5 [06:41<10:02, 200.75s/it]"
     ]
    },
    {
     "name": "stdout",
     "output_type": "stream",
     "text": [
      "--------------------------------------------- Result 74 ---------------------------------------------\n",
      "[[World (100%)]] --> [[[FAILED]]]\n",
      "\n",
      "On front line of AIDS in Russia An industrial city northwest of Moscow struggles as AIDS hits a broader population.\n",
      "\n",
      "\n"
     ]
    },
    {
     "name": "stderr",
     "output_type": "stream",
     "text": [
      "[Succeeded / Failed / Skipped / Total] 2 / 70 / 3 / 75:  40%|████      | 2/5 [06:47<10:11, 203.90s/it]"
     ]
    },
    {
     "name": "stdout",
     "output_type": "stream",
     "text": [
      "--------------------------------------------- Result 75 ---------------------------------------------\n",
      "[[Sci/tech (98%)]] --> [[[FAILED]]]\n",
      "\n",
      "Nobel Laureate Decries Stem Cell Limits (AP) AP - A Nobel laureate in medicine said Monday the Bush administration's limits on funding for embryonic stem cell research effectively have stopped the clock on American scientists' efforts to develop treatments for a host of chronic, debilitating diseases.\n",
      "\n",
      "\n"
     ]
    },
    {
     "name": "stderr",
     "output_type": "stream",
     "text": [
      "[Succeeded / Failed / Skipped / Total] 2 / 71 / 3 / 76:  40%|████      | 2/5 [06:53<10:19, 206.63s/it]"
     ]
    },
    {
     "name": "stdout",
     "output_type": "stream",
     "text": [
      "--------------------------------------------- Result 76 ---------------------------------------------\n",
      "[[Sports (100%)]] --> [[[FAILED]]]\n",
      "\n",
      "Jury Can Hear of Kobe Accuser's Sex Life (AP) AP - Prosecutors suffered another setback Monday in the Kobe Bryant sexual assault case, losing a last-ditch attempt to keep the NBA star's lawyers from telling jurors about the alleged victim's sex life.\n",
      "\n",
      "\n"
     ]
    },
    {
     "name": "stderr",
     "output_type": "stream",
     "text": [
      "[Succeeded / Failed / Skipped / Total] 2 / 72 / 3 / 77:  40%|████      | 2/5 [06:58<10:28, 209.39s/it]"
     ]
    },
    {
     "name": "stdout",
     "output_type": "stream",
     "text": [
      "--------------------------------------------- Result 77 ---------------------------------------------\n",
      "[[World (100%)]] --> [[[FAILED]]]\n",
      "\n",
      "North Korea Talks Still On, China Tells Downer (Reuters) Reuters - China has said no date has been set for\\working-level talks on the North Korean nuclear crisis and gave\\no indication that the meeting has been canceled, Australian\\Foreign Minister Alexander Downer said on Tuesday.\n",
      "\n",
      "\n"
     ]
    },
    {
     "name": "stderr",
     "output_type": "stream",
     "text": [
      "[Succeeded / Failed / Skipped / Total] 2 / 73 / 3 / 78:  40%|████      | 2/5 [07:01<10:31, 210.66s/it]"
     ]
    },
    {
     "name": "stdout",
     "output_type": "stream",
     "text": [
      "--------------------------------------------- Result 78 ---------------------------------------------\n",
      "[[Sports (100%)]] --> [[[FAILED]]]\n",
      "\n",
      "Griffin to Anchor D-Line The Redskins expect huge things from 300-pound Cornelius Griffin, who was signed to aid the team's weakest unit - the defensive line.\n",
      "\n",
      "\n"
     ]
    },
    {
     "name": "stderr",
     "output_type": "stream",
     "text": [
      "[Succeeded / Failed / Skipped / Total] 2 / 74 / 4 / 80:  40%|████      | 2/5 [07:06<10:40, 213.48s/it]"
     ]
    },
    {
     "name": "stdout",
     "output_type": "stream",
     "text": [
      "--------------------------------------------- Result 79 ---------------------------------------------\n",
      "[[World (100%)]] --> [[[FAILED]]]\n",
      "\n",
      "Last American defector in North Korea agrees to tell story (AFP) AFP - The last surviving American defector to communist North Korea wants to tell his story to put a human face on the Stalinist state which he believes is unfairly vilified abroad, British film-makers said.\n",
      "\n",
      "\n",
      "--------------------------------------------- Result 80 ---------------------------------------------\n",
      "[[Sports (60%)]] --> [[[SKIPPED]]]\n",
      "\n",
      "Live: Olympics day four Richard Faulds and Stephen Parry are going for gold for Great Britain on day four in Athens.\n",
      "\n",
      "\n"
     ]
    },
    {
     "name": "stderr",
     "output_type": "stream",
     "text": [
      "[Succeeded / Failed / Skipped / Total] 2 / 75 / 4 / 81:  40%|████      | 2/5 [07:11<10:47, 215.90s/it]"
     ]
    },
    {
     "name": "stdout",
     "output_type": "stream",
     "text": [
      "--------------------------------------------- Result 81 ---------------------------------------------\n",
      "[[World (100%)]] --> [[[FAILED]]]\n",
      "\n",
      "Kerry Widens Lead in California, Poll Finds (Reuters) Reuters - Democratic challenger John Kerry\\has a commanding lead over President Bush in California of 54\\percent to 38 percent among likely voters, a poll released on\\Tuesday found.\n",
      "\n",
      "\n"
     ]
    },
    {
     "name": "stderr",
     "output_type": "stream",
     "text": [
      "[Succeeded / Failed / Skipped / Total] 2 / 76 / 4 / 82:  40%|████      | 2/5 [07:13<10:49, 216.63s/it]"
     ]
    },
    {
     "name": "stdout",
     "output_type": "stream",
     "text": [
      "--------------------------------------------- Result 82 ---------------------------------------------\n",
      "[[Sports (100%)]] --> [[[FAILED]]]\n",
      "\n",
      "Capacity Crowds at Beach Volleyball Rock the Joint  ATHENS (Reuters) - At the beach volleyball, the 2004  Olympics is a sell-out, foot-stomping success.\n",
      "\n",
      "\n"
     ]
    },
    {
     "name": "stderr",
     "output_type": "stream",
     "text": [
      "[Succeeded / Failed / Skipped / Total] 2 / 77 / 6 / 85:  40%|████      | 2/5 [07:18<10:57, 219.29s/it]"
     ]
    },
    {
     "name": "stdout",
     "output_type": "stream",
     "text": [
      "--------------------------------------------- Result 83 ---------------------------------------------\n",
      "[[Business (100%)]] --> [[[FAILED]]]\n",
      "\n",
      "Dollar Near Recent Lows, Awaits ZEW/CPI  LONDON (Reuters) - The dollar held steady near this week's  four-week low against the euro on Tuesday with investors  awaiting a German investor confidence survey and U.S. consumer  inflation numbers to shed light on the direction.\n",
      "\n",
      "\n",
      "--------------------------------------------- Result 84 ---------------------------------------------\n",
      "[[Sci/tech (96%)]] --> [[[SKIPPED]]]\n",
      "\n",
      "Intel to delay product aimed for high-definition TVs SAN FRANCISCO -- In the latest of a series of product delays, Intel Corp. has postponed the launch of a video display chip it had previously planned to introduce by year end, putting off a showdown with Texas Instruments Inc. in the fast-growing market for high-definition television displays.\n",
      "\n",
      "\n",
      "--------------------------------------------- Result 85 ---------------------------------------------\n",
      "[[Business (55%)]] --> [[[SKIPPED]]]\n",
      "\n",
      "Venezuela vote keeps Chavez as president CARACAS -- Venezuelans voted resoundingly to keep firebrand populist Hugo Chavez as their president in a victory that drew noisy reactions yesterday from both sides in the streets. International observers certified the results as clean and accurate.\n",
      "\n",
      "\n"
     ]
    },
    {
     "name": "stderr",
     "output_type": "stream",
     "text": [
      "[Succeeded / Failed / Skipped / Total] 2 / 78 / 6 / 86:  40%|████      | 2/5 [07:22<11:03, 221.30s/it]"
     ]
    },
    {
     "name": "stdout",
     "output_type": "stream",
     "text": [
      "--------------------------------------------- Result 86 ---------------------------------------------\n",
      "[[World (100%)]] --> [[[FAILED]]]\n",
      "\n",
      "Jailing of HK democrat in China 'politically motivated' (AFP) AFP - Hong Kong democrats accused China of jailing one of their members on trumped-up prostitution charges in a bid to disgrace a political movement Beijing has been feuding with for seven years.\n",
      "\n",
      "\n"
     ]
    },
    {
     "name": "stderr",
     "output_type": "stream",
     "text": [
      "[Succeeded / Failed / Skipped / Total] 2 / 79 / 6 / 87:  40%|████      | 2/5 [07:29<11:14, 224.67s/it]"
     ]
    },
    {
     "name": "stdout",
     "output_type": "stream",
     "text": [
      "--------------------------------------------- Result 87 ---------------------------------------------\n",
      "[[Business (100%)]] --> [[[FAILED]]]\n",
      "\n",
      "Kmart Swings to Profit in 2Q; Stock Surges (AP) AP - Shares of Kmart Holding Corp. surged 17 percent Monday after the discount retailer reported a profit for the second quarter and said chairman and majority owner Edward Lampert is now free to invest the company's  #36;2.6 billion in surplus cash.\n",
      "\n",
      "\n"
     ]
    },
    {
     "name": "stderr",
     "output_type": "stream",
     "text": [
      "[Succeeded / Failed / Skipped / Total] 2 / 80 / 6 / 88:  40%|████      | 2/5 [07:34<11:22, 227.42s/it]"
     ]
    },
    {
     "name": "stdout",
     "output_type": "stream",
     "text": [
      "--------------------------------------------- Result 88 ---------------------------------------------\n",
      "[[World (100%)]] --> [[[FAILED]]]\n",
      "\n",
      "Fischer's Fiancee: Marriage Plans Genuine (AP) AP - Former chess champion Bobby Fischer's announcement thathe is engaged to a Japanese woman could win him sympathy among Japanese officials and help him avoid deportation to the United States, his fiancee and one of his supporters said Tuesday.\n",
      "\n",
      "\n"
     ]
    },
    {
     "name": "stderr",
     "output_type": "stream",
     "text": [
      "[Succeeded / Failed / Skipped / Total] 2 / 81 / 6 / 89:  40%|████      | 2/5 [07:46<11:39, 233.28s/it]"
     ]
    },
    {
     "name": "stdout",
     "output_type": "stream",
     "text": [
      "--------------------------------------------- Result 89 ---------------------------------------------\n",
      "[[World (100%)]] --> [[[FAILED]]]\n",
      "\n",
      "U.S. Misses Cut in Olympic 100 Free ATHENS, Greece - Top American sprinters Jason Lezak and Ian Crocker missed the cut in the Olympic 100-meter freestyle preliminaries Tuesday, a stunning blow for a country that had always done well in the event.    Pieter van den Hoogenband of the Netherlands and Australian Ian Thorpe advanced to the evening semifinal a day after dueling teenager Michael Phelps in the 200 freestyle, won by Thorpe...\n",
      "\n",
      "\n"
     ]
    },
    {
     "name": "stderr",
     "output_type": "stream",
     "text": [
      "[Succeeded / Failed / Skipped / Total] 2 / 82 / 6 / 90:  40%|████      | 2/5 [08:02<12:03, 241.17s/it]"
     ]
    },
    {
     "name": "stdout",
     "output_type": "stream",
     "text": [
      "--------------------------------------------- Result 90 ---------------------------------------------\n",
      "[[Sci/tech (95%)]] --> [[[FAILED]]]\n",
      "\n",
      "Consumers Would Pay In Phone Proposal A proposal backed by a coalition of telephone carriers would cut billions of dollars in fees owed by long-distance companies to regional phone giants but would allow the regional companies to make up some of the difference by raising monthly phone bills for millions of consumers. &lt;FONT face=\"verdana,MS Sans Serif,arial,helvetica\" size=\"-2\"\\ color=\"#666666\"&gt;&lt;B&gt;-The Washington Post&lt;/B&gt;&lt;/FONT&gt;\n",
      "\n",
      "\n"
     ]
    },
    {
     "name": "stderr",
     "output_type": "stream",
     "text": [
      "[Succeeded / Failed / Skipped / Total] 2 / 83 / 6 / 91:  40%|████      | 2/5 [08:06<12:09, 243.04s/it]"
     ]
    },
    {
     "name": "stdout",
     "output_type": "stream",
     "text": [
      "--------------------------------------------- Result 91 ---------------------------------------------\n",
      "[[World (100%)]] --> [[[FAILED]]]\n",
      "\n",
      "U.S. Brokers Cease-fire in Western Afghanistan  KABUL (Reuters) - The United States has brokered a  cease-fire between a renegade Afghan militia leader and the  embattled governor of the western province of Herat,  Washington's envoy to Kabul said Tuesday.\n",
      "\n",
      "\n"
     ]
    },
    {
     "name": "stderr",
     "output_type": "stream",
     "text": [
      "[Succeeded / Failed / Skipped / Total] 2 / 84 / 6 / 92:  40%|████      | 2/5 [08:07<12:10, 243.55s/it]"
     ]
    },
    {
     "name": "stdout",
     "output_type": "stream",
     "text": [
      "--------------------------------------------- Result 92 ---------------------------------------------\n",
      "[[Business (98%)]] --> [[[FAILED]]]\n",
      "\n",
      "Sneaky Credit Card Tactics Keep an eye on your credit card issuers -- they may be about to raise your rates.\n",
      "\n",
      "\n"
     ]
    },
    {
     "name": "stderr",
     "output_type": "stream",
     "text": [
      "[Succeeded / Failed / Skipped / Total] 2 / 85 / 6 / 93:  40%|████      | 2/5 [08:10<12:16, 245.44s/it]"
     ]
    },
    {
     "name": "stdout",
     "output_type": "stream",
     "text": [
      "--------------------------------------------- Result 93 ---------------------------------------------\n",
      "[[Sci/tech (99%)]] --> [[[FAILED]]]\n",
      "\n",
      "Intel Delays Launch of Projection TV Chip In another product postponement, semiconductor giant Intel Corp. said it won't be offering a chip for projection TVs by the end of 2004 as it had announced earlier this year.\n",
      "\n",
      "\n"
     ]
    },
    {
     "name": "stderr",
     "output_type": "stream",
     "text": [
      "[Succeeded / Failed / Skipped / Total] 2 / 86 / 6 / 94:  40%|████      | 2/5 [08:14<12:22, 247.45s/it]"
     ]
    },
    {
     "name": "stdout",
     "output_type": "stream",
     "text": [
      "--------------------------------------------- Result 94 ---------------------------------------------\n",
      "[[Business (100%)]] --> [[[FAILED]]]\n",
      "\n",
      "Fund pessimism grows NEW YORK (CNN/Money) - Money managers are growing more pessimistic about the economy, corporate profits and US stock market returns, according to a monthly survey by Merrill Lynch released Tuesday. \n",
      "\n",
      "\n"
     ]
    },
    {
     "name": "stderr",
     "output_type": "stream",
     "text": [
      "[Succeeded / Failed / Skipped / Total] 2 / 87 / 6 / 95:  40%|████      | 2/5 [08:17<12:26, 248.91s/it]"
     ]
    },
    {
     "name": "stdout",
     "output_type": "stream",
     "text": [
      "--------------------------------------------- Result 95 ---------------------------------------------\n",
      "[[Sports (99%)]] --> [[[FAILED]]]\n",
      "\n",
      "Kederis proclaims innocence Olympic champion Kostas Kederis today left hospital ahead of his date with IOC inquisitors claiming his innocence and vowing:  quot;After the crucifixion comes the resurrection. quot; ...\n",
      "\n",
      "\n"
     ]
    },
    {
     "name": "stderr",
     "output_type": "stream",
     "text": [
      "[Succeeded / Failed / Skipped / Total] 2 / 88 / 6 / 96:  40%|████      | 2/5 [08:22<12:33, 251.10s/it]"
     ]
    },
    {
     "name": "stdout",
     "output_type": "stream",
     "text": [
      "--------------------------------------------- Result 96 ---------------------------------------------\n",
      "[[Sports (100%)]] --> [[[FAILED]]]\n",
      "\n",
      "Eriksson doesn #39;t feel any extra pressure following scandal NEWCASTLE, England (AP) - England coach Sven-Goran Eriksson said Tuesday he isn #39;t under any extra pressure in the aftermath of a scandal that damaged the Football Association #39;s reputation. \n",
      "\n",
      "\n"
     ]
    },
    {
     "name": "stderr",
     "output_type": "stream",
     "text": [
      "[Succeeded / Failed / Skipped / Total] 2 / 89 / 6 / 97:  40%|████      | 2/5 [08:26<12:39, 253.10s/it]"
     ]
    },
    {
     "name": "stdout",
     "output_type": "stream",
     "text": [
      "--------------------------------------------- Result 97 ---------------------------------------------\n",
      "[[Sports (99%)]] --> [[[FAILED]]]\n",
      "\n",
      "Injured Heskey to miss England friendly NEWCASTLE, England (AP) - Striker Emile Heskey has pulled out of the England squad ahead of Wednesday #39;s friendly against Ukraine because of a tight hamstring, the Football Association said Tuesday. \n",
      "\n",
      "\n"
     ]
    },
    {
     "name": "stderr",
     "output_type": "stream",
     "text": [
      "[Succeeded / Failed / Skipped / Total] 2 / 90 / 6 / 98:  40%|████      | 2/5 [08:39<12:59, 259.91s/it]"
     ]
    },
    {
     "name": "stdout",
     "output_type": "stream",
     "text": [
      "--------------------------------------------- Result 98 ---------------------------------------------\n",
      "[[Business (100%)]] --> [[[FAILED]]]\n",
      "\n",
      "Staples Profit Up, to Enter China Market  NEW YORK (Reuters) - Staples Inc. &lt;A HREF=\"http://www.investor.reuters.com/FullQuote.aspx?ticker=SPLS.O target=/stocks/quickinfo/fullquote\"&gt;SPLS.O&lt;/A&gt;, the top U.S.  office products retailer, on Tuesday reported a 39 percent jump  in quarterly profit, raised its full-year forecast and said it  plans to enter the fast-growing Chinese market, sending its  shares higher.\n",
      "\n",
      "\n"
     ]
    },
    {
     "name": "stderr",
     "output_type": "stream",
     "text": [
      "[Succeeded / Failed / Skipped / Total] 2 / 91 / 6 / 99:  40%|████      | 2/5 [08:45<13:08, 262.77s/it]"
     ]
    },
    {
     "name": "stdout",
     "output_type": "stream",
     "text": [
      "--------------------------------------------- Result 99 ---------------------------------------------\n",
      "[[World (100%)]] --> [[[FAILED]]]\n",
      "\n",
      "Delegation Is Delayed Before Reaching Najaf AGHDAD, Iraq, Aug. 17  A delegation of Iraqis was delayed for security reasons today but still intended to visit Najaf to try to convince a rebellious Shiite cleric and his militia to evacuate a shrine in the holy city and end ...\n",
      "\n",
      "\n"
     ]
    },
    {
     "name": "stderr",
     "output_type": "stream",
     "text": [
      "[Succeeded / Failed / Skipped / Total] 2 / 92 / 6 / 100:  40%|████      | 2/5 [08:52<13:18, 266.33s/it]"
     ]
    },
    {
     "name": "stdout",
     "output_type": "stream",
     "text": [
      "--------------------------------------------- Result 100 ---------------------------------------------\n",
      "[[Business (100%)]] --> [[[FAILED]]]\n",
      "\n",
      "Consumer Prices Down, Industry Output Up  WASHINGTON (Reuters) - U.S. consumer prices dropped in July  for the first time in eight months as a sharp run up in energy  costs reversed, the government said in a report that suggested  a slow rate of interest rate hikes is likely.\n",
      "\n",
      "\n"
     ]
    },
    {
     "name": "stderr",
     "output_type": "stream",
     "text": [
      "[Succeeded / Failed / Skipped / Total] 2 / 93 / 6 / 101:  40%|████      | 2/5 [08:58<13:27, 269.04s/it]"
     ]
    },
    {
     "name": "stdout",
     "output_type": "stream",
     "text": [
      "--------------------------------------------- Result 101 ---------------------------------------------\n",
      "[[Sports (100%)]] --> [[[FAILED]]]\n",
      "\n",
      "Olympic history for India, UAE An Indian army major shot his way to his country #39;s first ever individual Olympic silver medal on Tuesday, while in the same event an member of Dubai #39;s ruling family became the first ever medallist from the United Arab Emirates. \n",
      "\n",
      "\n"
     ]
    },
    {
     "name": "stderr",
     "output_type": "stream",
     "text": [
      "[Succeeded / Failed / Skipped / Total] 2 / 94 / 6 / 102:  40%|████      | 2/5 [09:02<13:33, 271.22s/it]"
     ]
    },
    {
     "name": "stdout",
     "output_type": "stream",
     "text": [
      "--------------------------------------------- Result 102 ---------------------------------------------\n",
      "[[Business (100%)]] --> [[[FAILED]]]\n",
      "\n",
      "Home Depot Likes High Oil Rising fuel prices, a bugbear for most of the retail sector, are helping Home Depot (HD:NYSE - news - research), the remodeling giant that reported a surge in second-quarter earnings Tuesday and guided the rest of the year higher. \n",
      "\n",
      "\n"
     ]
    },
    {
     "name": "stderr",
     "output_type": "stream",
     "text": [
      "[Succeeded / Failed / Skipped / Total] 2 / 95 / 6 / 103:  40%|████      | 2/5 [09:08<13:42, 274.19s/it]"
     ]
    },
    {
     "name": "stdout",
     "output_type": "stream",
     "text": [
      "--------------------------------------------- Result 103 ---------------------------------------------\n",
      "[[Sci/tech (95%)]] --> [[[FAILED]]]\n",
      "\n",
      "China cracks down on  quot;phone sex quot; services BEIJING, Aug. 17 (Xinhuanet) -- China is carrying out a nationwide campaign to crack down on  quot;phone sex quot; services, paralleling another sweeping operation against Internet pornography, Minister of Information Industry Wang Xudong said here Tuesday. \n",
      "\n",
      "\n"
     ]
    },
    {
     "name": "stderr",
     "output_type": "stream",
     "text": [
      "[Succeeded / Failed / Skipped / Total] 2 / 96 / 6 / 104:  40%|████      | 2/5 [09:09<13:43, 274.60s/it]"
     ]
    },
    {
     "name": "stdout",
     "output_type": "stream",
     "text": [
      "--------------------------------------------- Result 104 ---------------------------------------------\n",
      "[[Business (95%)]] --> [[[FAILED]]]\n",
      "\n",
      "Surviving Biotech's Downturns Charly Travers offers advice on withstanding the volatility of the biotech sector.\n",
      "\n",
      "\n"
     ]
    },
    {
     "name": "stderr",
     "output_type": "stream",
     "text": [
      "[Succeeded / Failed / Skipped / Total] 3 / 96 / 6 / 105:  60%|██████    | 3/5 [09:14<06:09, 184.91s/it]"
     ]
    },
    {
     "name": "stdout",
     "output_type": "stream",
     "text": [
      "--------------------------------------------- Result 105 ---------------------------------------------\n",
      "[[World (97%)]] --> [[Sports (79%)]]\n",
      "\n",
      "Mr Downer shoots his mouth off Just what Alexander Downer was thinking when he declared on radio [[last]] Friday that  quot;they could fire a missile from North Korea to Sydney quot; is unclear. The [[provocative]] remark, just days before his arrival yesterday on his [[second]] visit to the [[North]] Korean ...\n",
      "\n",
      "Mr Downer shoots his mouth off Just what Alexander Downer was thinking when he declared on radio [[final]] Friday that  quot;they could fire a missile from North Korea to Sydney quot; is unclear. The [[incitement]] remark, just days before his arrival yesterday on his [[dry]] visit to the [[Norse]] Korean ...\n",
      "\n",
      "\n"
     ]
    },
    {
     "name": "stderr",
     "output_type": "stream",
     "text": [
      "[Succeeded / Failed / Skipped / Total] 3 / 97 / 6 / 106:  60%|██████    | 3/5 [09:17<06:11, 185.94s/it]"
     ]
    },
    {
     "name": "stdout",
     "output_type": "stream",
     "text": [
      "--------------------------------------------- Result 106 ---------------------------------------------\n",
      "[[Sports (100%)]] --> [[[FAILED]]]\n",
      "\n",
      "Edwards Banned from Games - Source  ATHENS (Reuters) - World 100 meters champion Torri Edwards  will miss the Athens Olympics after her appeal against a  two-year drugs ban was dismissed on Tuesday, a source told  Reuters.\n",
      "\n",
      "\n"
     ]
    },
    {
     "name": "stderr",
     "output_type": "stream",
     "text": [
      "[Succeeded / Failed / Skipped / Total] 3 / 98 / 6 / 107:  60%|██████    | 3/5 [09:28<06:18, 189.37s/it]"
     ]
    },
    {
     "name": "stdout",
     "output_type": "stream",
     "text": [
      "--------------------------------------------- Result 107 ---------------------------------------------\n",
      "[[World (100%)]] --> [[[FAILED]]]\n",
      "\n",
      "Stocks Climb on Drop in Consumer Prices NEW YORK - Stocks rose for a second straight session Tuesday as a drop in consumer prices allowed investors to put aside worries about inflation, at least for the short term.    With gasoline prices falling to eight-month lows, the Consumer Price Index registered a small drop in July, giving consumers a respite from soaring energy prices...\n",
      "\n",
      "\n"
     ]
    },
    {
     "name": "stderr",
     "output_type": "stream",
     "text": [
      "[Succeeded / Failed / Skipped / Total] 3 / 99 / 6 / 108:  60%|██████    | 3/5 [09:30<06:20, 190.06s/it]"
     ]
    },
    {
     "name": "stdout",
     "output_type": "stream",
     "text": [
      "--------------------------------------------- Result 108 ---------------------------------------------\n",
      "[[Sports (99%)]] --> [[[FAILED]]]\n",
      "\n",
      "Iliadis, Tanimoto win judo golds Ilias Iliadis of Greece thrilled the home crowd Tuesday, beating Roman Gontyuk of Ukraine to win the gold medal in the 81-kilogram class. \n",
      "\n",
      "\n"
     ]
    },
    {
     "name": "stderr",
     "output_type": "stream",
     "text": [
      "[Succeeded / Failed / Skipped / Total] 3 / 100 / 6 / 109:  60%|██████    | 3/5 [09:35<06:23, 191.67s/it]"
     ]
    },
    {
     "name": "stdout",
     "output_type": "stream",
     "text": [
      "--------------------------------------------- Result 109 ---------------------------------------------\n",
      "[[World (100%)]] --> [[[FAILED]]]\n",
      "\n",
      "Sudan vows to restore order to Darfur but calls for African peacekeepers (AFP) AFP - Sudan will take the lead in restoring order to its rebellious Darfur region but needs the support of African peacekeepers and humanitarian aid, Foreign Minister Mustafa Osman Ismail said.\n",
      "\n",
      "\n"
     ]
    },
    {
     "name": "stderr",
     "output_type": "stream",
     "text": [
      "[Succeeded / Failed / Skipped / Total] 3 / 101 / 8 / 112:  60%|██████    | 3/5 [09:37<06:25, 192.51s/it]"
     ]
    },
    {
     "name": "stdout",
     "output_type": "stream",
     "text": [
      "--------------------------------------------- Result 110 ---------------------------------------------\n",
      "[[Sci/tech (99%)]] --> [[[FAILED]]]\n",
      "\n",
      "TGn Sync Proposes New WLAN Standard The battle over home entertainment networking is heating up as a coalition proposes yet another standard for the IEEE #39;s consideration. \n",
      "\n",
      "\n",
      "--------------------------------------------- Result 111 ---------------------------------------------\n",
      "[[Sci/tech (68%)]] --> [[[SKIPPED]]]\n",
      "\n",
      "Yahoo! Ups Ante for Small Businesses Web giant Yahoo! is gambling that price cuts on its domain name registration and Web hosting products will make it more competitive with discounters in the space -- which means that small businesses looking to move online get a sweeter deal through ...\n",
      "\n",
      "\n",
      "--------------------------------------------- Result 112 ---------------------------------------------\n",
      "[[Business (82%)]] --> [[[SKIPPED]]]\n",
      "\n",
      "IBM Buys Two Danish Services Firms IBM said Tuesday it has acquired a pair of Danish IT services firms as part of its effort to broaden its presence in Scandinavia. As a result of the moves, IBM will add about 3,700 IT staffers to its global head count. Financial terms of ...\n",
      "\n",
      "\n"
     ]
    },
    {
     "name": "stderr",
     "output_type": "stream",
     "text": [
      "[Succeeded / Failed / Skipped / Total] 3 / 102 / 8 / 113:  60%|██████    | 3/5 [09:40<06:26, 193.45s/it]"
     ]
    },
    {
     "name": "stdout",
     "output_type": "stream",
     "text": [
      "--------------------------------------------- Result 113 ---------------------------------------------\n",
      "[[Sci/tech (97%)]] --> [[[FAILED]]]\n",
      "\n",
      "Motorola and HP in Linux tie-up Motorola plans to sell mobile phone network equipment that uses Linux-based code, a step forward in network gear makers #39; efforts to rally around a standard. \n",
      "\n",
      "\n"
     ]
    },
    {
     "name": "stderr",
     "output_type": "stream",
     "text": [
      "[Succeeded / Failed / Skipped / Total] 3 / 103 / 8 / 114:  60%|██████    | 3/5 [09:46<06:30, 195.39s/it]"
     ]
    },
    {
     "name": "stdout",
     "output_type": "stream",
     "text": [
      "--------------------------------------------- Result 114 ---------------------------------------------\n",
      "[[Sci/tech (100%)]] --> [[[FAILED]]]\n",
      "\n",
      "Microsoft Pushes Off SP2 Release Microsoft will delay the release of its SP2 update for another week to fix software glitches. But not everyone is quite so eager to install the SP2 update for Windows XP. In fact, many companies have demanded the ability to prevent their ...\n",
      "\n",
      "\n"
     ]
    },
    {
     "name": "stderr",
     "output_type": "stream",
     "text": [
      "[Succeeded / Failed / Skipped / Total] 3 / 104 / 8 / 115:  60%|██████    | 3/5 [09:51<06:34, 197.14s/it]"
     ]
    },
    {
     "name": "stdout",
     "output_type": "stream",
     "text": [
      "--------------------------------------------- Result 115 ---------------------------------------------\n",
      "[[Sci/tech (100%)]] --> [[[FAILED]]]\n",
      "\n",
      "Cassini Space Probe Spots Two New Saturn Moons (Reuters) Reuters - Two new moons were spotted around\\Saturn by the Cassini space probe, raising the total to 33\\moons for the ringed planet, NASA said on Monday.\n",
      "\n",
      "\n"
     ]
    },
    {
     "name": "stderr",
     "output_type": "stream",
     "text": [
      "[Succeeded / Failed / Skipped / Total] 3 / 105 / 8 / 116:  60%|██████    | 3/5 [09:54<06:36, 198.13s/it]"
     ]
    },
    {
     "name": "stdout",
     "output_type": "stream",
     "text": [
      "--------------------------------------------- Result 116 ---------------------------------------------\n",
      "[[Sports (98%)]] --> [[[FAILED]]]\n",
      "\n",
      "Buckeyes have lots to replace but are brimming with optimism There are remarkable similarities between the 2004 Ohio State Buckeyes and those that won the national championship just two years ago. \n",
      "\n",
      "\n"
     ]
    },
    {
     "name": "stderr",
     "output_type": "stream",
     "text": [
      "[Succeeded / Failed / Skipped / Total] 3 / 106 / 8 / 117:  60%|██████    | 3/5 [09:58<06:39, 199.54s/it]"
     ]
    },
    {
     "name": "stdout",
     "output_type": "stream",
     "text": [
      "--------------------------------------------- Result 117 ---------------------------------------------\n",
      "[[Sci/tech (100%)]] --> [[[FAILED]]]\n",
      "\n",
      "IBM adds midrange server to eServer lineup The new IBM Power5 eServer i5 550 also features higher performance and new virtualization capabilities that allow it to run multiple operating systems at once on separate partitions.\n",
      "\n",
      "\n"
     ]
    },
    {
     "name": "stderr",
     "output_type": "stream",
     "text": [
      "[Succeeded / Failed / Skipped / Total] 3 / 107 / 8 / 118:  60%|██████    | 3/5 [10:15<06:50, 205.29s/it]"
     ]
    },
    {
     "name": "stdout",
     "output_type": "stream",
     "text": [
      "--------------------------------------------- Result 118 ---------------------------------------------\n",
      "[[Sci/tech (99%)]] --> [[[FAILED]]]\n",
      "\n",
      "iPod Comparison Newsday #146;s Stephen Williams reports on seeing Sony #146;s NW-HD1 audio player in a store:  #147; #145;How #146;s it compare to the iPod? #146; I asked a salesman.  #145;Battery life is a lot longer, up to 30 hours, #146; he said.  #145;The LCD readout is kind of dim, #146; I said.   #146;Battery life is a lot longer, #146; he said.  #145;I understand it can #146;t play MP3 files, #146; I said.  #145;Battery life is a lot longer, #146; he said. #148; Aug 17\n",
      "\n",
      "\n"
     ]
    },
    {
     "name": "stderr",
     "output_type": "stream",
     "text": [
      "[Succeeded / Failed / Skipped / Total] 3 / 108 / 8 / 119:  60%|██████    | 3/5 [10:22<06:54, 207.36s/it]"
     ]
    },
    {
     "name": "stdout",
     "output_type": "stream",
     "text": [
      "--------------------------------------------- Result 119 ---------------------------------------------\n",
      "[[Business (100%)]] --> [[[FAILED]]]\n",
      "\n",
      "Mills Grabs \\$1B Portfolio; Taubman Likely to Lose Contracts Mills Corp. agreed to purchase a 50 percent interest in nine malls owned by General Motors Asset Management Corp. for just over \\$1 billion, creating a new joint venture between the groups. The deal will extend ...\n",
      "\n",
      "\n"
     ]
    },
    {
     "name": "stderr",
     "output_type": "stream",
     "text": [
      "[Succeeded / Failed / Skipped / Total] 3 / 109 / 9 / 121:  60%|██████    | 3/5 [10:27<06:58, 209.13s/it]"
     ]
    },
    {
     "name": "stdout",
     "output_type": "stream",
     "text": [
      "--------------------------------------------- Result 120 ---------------------------------------------\n",
      "[[Sports (100%)]] --> [[[FAILED]]]\n",
      "\n",
      "Women stumble to silver ATHENS -- The mistakes were so minor. Carly Patterson #39;s foot scraping the lower of the uneven bars. Courtney Kupets #39; tumbling pass that ended here instead of there. Mohini Bhardwaj #39;s slight stumble on the beam. \n",
      "\n",
      "\n",
      "--------------------------------------------- Result 121 ---------------------------------------------\n",
      "[[Business (100%)]] --> [[[SKIPPED]]]\n",
      "\n",
      "Oil prices bubble to record high The price of oil has continued its sharp rise overnight, closing at a record high. The main contract in New York, light sweet crude for delivery next month, has closed at a record \\$US46.75 a barrel - up 70 cents on yesterday #39;s close. \n",
      "\n",
      "\n"
     ]
    },
    {
     "name": "stderr",
     "output_type": "stream",
     "text": [
      "[Succeeded / Failed / Skipped / Total] 3 / 110 / 9 / 122:  60%|██████    | 3/5 [10:31<07:01, 210.62s/it]"
     ]
    },
    {
     "name": "stdout",
     "output_type": "stream",
     "text": [
      "--------------------------------------------- Result 122 ---------------------------------------------\n",
      "[[Sports (100%)]] --> [[[FAILED]]]\n",
      "\n",
      "Notable quotes Tuesday at the Athens Olympics  quot;It hurt like hell. I could see (Thorpe) coming up. But when I was breathing, I saw my team going crazy -- and that really kept me going. quot; ...\n",
      "\n",
      "\n"
     ]
    },
    {
     "name": "stderr",
     "output_type": "stream",
     "text": [
      "[Succeeded / Failed / Skipped / Total] 3 / 111 / 9 / 123:  60%|██████    | 3/5 [10:35<07:03, 211.72s/it]"
     ]
    },
    {
     "name": "stdout",
     "output_type": "stream",
     "text": [
      "--------------------------------------------- Result 123 ---------------------------------------------\n",
      "[[Sci/tech (95%)]] --> [[[FAILED]]]\n",
      "\n",
      "AMD Ships Notebook Chips It wasn #39;t the first to go small, and it won #39;t be the biggest producer, but AMD #39;s (Quote, Chart) 64-bit 90-nanometer (nm) chips are expected to make waves in the semiconductor pool. \n",
      "\n",
      "\n"
     ]
    },
    {
     "name": "stderr",
     "output_type": "stream",
     "text": [
      "[Succeeded / Failed / Skipped / Total] 3 / 112 / 9 / 124:  60%|██████    | 3/5 [10:40<07:07, 213.62s/it]"
     ]
    },
    {
     "name": "stdout",
     "output_type": "stream",
     "text": [
      "--------------------------------------------- Result 124 ---------------------------------------------\n",
      "[[World (100%)]] --> [[[FAILED]]]\n",
      "\n",
      "UK charges 8 in terror plot linked to alert in US LONDON, AUGUST 17: Britain charged eight terror suspects on Tuesday with conspiracy to commit murder and said one had plans that could be used in striking US buildings that were the focus of security scares this month. \n",
      "\n",
      "\n"
     ]
    },
    {
     "name": "stderr",
     "output_type": "stream",
     "text": [
      "[Succeeded / Failed / Skipped / Total] 3 / 113 / 10 / 126:  60%|██████    | 3/5 [10:49<07:13, 216.59s/it]"
     ]
    },
    {
     "name": "stdout",
     "output_type": "stream",
     "text": [
      "--------------------------------------------- Result 125 ---------------------------------------------\n",
      "[[Sci/tech (100%)]] --> [[[FAILED]]]\n",
      "\n",
      "IBM Seeks To Have SCO Claims Dismissed (NewsFactor) NewsFactor - IBM (NYSE: IBM) has -- again -- sought to have the pending legal claims by The SCO Group dismissed. According to a motion it filed in a U.S. district court, IBM argues that SCO has no evidence to support its claims that it appropriated confidential source code from Unix System V and placed it in Linux.\n",
      "\n",
      "\n",
      "--------------------------------------------- Result 126 ---------------------------------------------\n",
      "[[World (80%)]] --> [[[SKIPPED]]]\n",
      "\n",
      "SUVs: Live And Let Die NEW YORK - The newly released traffic crash fatality data have something for everyone in the debate about the safety of sport utility vehicles. \n",
      "\n",
      "\n"
     ]
    },
    {
     "name": "stderr",
     "output_type": "stream",
     "text": [
      "[Succeeded / Failed / Skipped / Total] 3 / 114 / 10 / 127:  60%|██████    | 3/5 [10:51<07:14, 217.29s/it]"
     ]
    },
    {
     "name": "stdout",
     "output_type": "stream",
     "text": [
      "--------------------------------------------- Result 127 ---------------------------------------------\n",
      "[[Sports (99%)]] --> [[[FAILED]]]\n",
      "\n",
      "Security scare as intruder dives in A CANADIAN husband #39;s love for his wife has led to a tightening of security at all Olympic venues in Athens. \n",
      "\n",
      "\n"
     ]
    },
    {
     "name": "stderr",
     "output_type": "stream",
     "text": [
      "[Succeeded / Failed / Skipped / Total] 3 / 115 / 10 / 128:  60%|██████    | 3/5 [10:55<07:16, 218.43s/it]"
     ]
    },
    {
     "name": "stdout",
     "output_type": "stream",
     "text": [
      "--------------------------------------------- Result 128 ---------------------------------------------\n",
      "[[Sports (98%)]] --> [[[FAILED]]]\n",
      "\n",
      "Team USA barely wins, but struggles not all players #39; fault Now that everybody in and around USA Basketball has breathed a huge sigh of relief, let #39;s not get carried away. \n",
      "\n",
      "\n"
     ]
    },
    {
     "name": "stderr",
     "output_type": "stream",
     "text": [
      "[Succeeded / Failed / Skipped / Total] 3 / 116 / 10 / 129:  60%|██████    | 3/5 [11:01<07:21, 220.58s/it]"
     ]
    },
    {
     "name": "stdout",
     "output_type": "stream",
     "text": [
      "--------------------------------------------- Result 129 ---------------------------------------------\n",
      "[[Sports (100%)]] --> [[[FAILED]]]\n",
      "\n",
      "UPI NewsTrack Sports -- The United States men #39;s basketball team capped off a big day for the USA by fighting off Greece for a vital win, 77-71.  quot;They played with heart, quot; said Coach Larry Brown.  quot;That #39;s all you can ask. quot; ...\n",
      "\n",
      "\n"
     ]
    },
    {
     "name": "stderr",
     "output_type": "stream",
     "text": [
      "[Succeeded / Failed / Skipped / Total] 3 / 117 / 10 / 130:  60%|██████    | 3/5 [11:05<07:23, 221.94s/it]"
     ]
    },
    {
     "name": "stdout",
     "output_type": "stream",
     "text": [
      "--------------------------------------------- Result 130 ---------------------------------------------\n",
      "[[World (100%)]] --> [[[FAILED]]]\n",
      "\n",
      "Peace delegation leaves Najaf empty-handed as fighting continues BAGHDAD, Iraq - A national political conference #39;s bid to end the fighting in the Shiite Muslim holy city of Najaf appeared to have failed Tuesday. \n",
      "\n",
      "\n"
     ]
    },
    {
     "name": "stderr",
     "output_type": "stream",
     "text": [
      "[Succeeded / Failed / Skipped / Total] 3 / 118 / 10 / 131:  60%|██████    | 3/5 [11:10<07:27, 223.51s/it]"
     ]
    },
    {
     "name": "stdout",
     "output_type": "stream",
     "text": [
      "--------------------------------------------- Result 131 ---------------------------------------------\n",
      "[[World (100%)]] --> [[[FAILED]]]\n",
      "\n",
      "Georgian president calls for international conference on South Ossetia TBILISI, Georgia  Georgian President Mikhail Saakashvili appealed to world leaders Tuesday to convene an international conference on the conflict in breakaway South Ossetia, where daily exchanges of gunfire threaten to spark ...\n",
      "\n",
      "\n"
     ]
    },
    {
     "name": "stderr",
     "output_type": "stream",
     "text": [
      "[Succeeded / Failed / Skipped / Total] 3 / 119 / 10 / 132:  60%|██████    | 3/5 [11:15<07:30, 225.06s/it]"
     ]
    },
    {
     "name": "stdout",
     "output_type": "stream",
     "text": [
      "--------------------------------------------- Result 132 ---------------------------------------------\n",
      "[[World (100%)]] --> [[[FAILED]]]\n",
      "\n",
      "Shelling, shooting resumes in breakaway Georgian region (AFP) AFP - Georgian and South Ossetian forces overnight accused each other of trying to storm the other side's positions in Georgia's breakaway region of South Ossetia, as four Georgian soldiers were reported to be wounded.\n",
      "\n",
      "\n"
     ]
    },
    {
     "name": "stderr",
     "output_type": "stream",
     "text": [
      "[Succeeded / Failed / Skipped / Total] 3 / 120 / 10 / 133:  60%|██████    | 3/5 [11:20<07:33, 226.68s/it]"
     ]
    },
    {
     "name": "stdout",
     "output_type": "stream",
     "text": [
      "--------------------------------------------- Result 133 ---------------------------------------------\n",
      "[[Sports (100%)]] --> [[[FAILED]]]\n",
      "\n",
      "Youkilis, McCarty placed on 15-day disabled list BOSTON -- It was another busy day on the medical front for the Red Sox, as a series of roster moves were announced prior to Tuesday night #39;s game against the Blue Jays. \n",
      "\n",
      "\n"
     ]
    },
    {
     "name": "stderr",
     "output_type": "stream",
     "text": [
      "[Succeeded / Failed / Skipped / Total] 3 / 121 / 10 / 134:  60%|██████    | 3/5 [11:21<07:34, 227.12s/it]"
     ]
    },
    {
     "name": "stdout",
     "output_type": "stream",
     "text": [
      "--------------------------------------------- Result 134 ---------------------------------------------\n",
      "[[World (100%)]] --> [[[FAILED]]]\n",
      "\n",
      "Kerry-Kerrey Confusion Trips Up Campaign (AP) AP - John Kerry, Bob Kerrey. It's easy to get confused.\n",
      "\n",
      "\n"
     ]
    },
    {
     "name": "stderr",
     "output_type": "stream",
     "text": [
      "[Succeeded / Failed / Skipped / Total] 3 / 122 / 10 / 135:  60%|██████    | 3/5 [11:25<07:36, 228.40s/it]"
     ]
    },
    {
     "name": "stdout",
     "output_type": "stream",
     "text": [
      "--------------------------------------------- Result 135 ---------------------------------------------\n",
      "[[Sports (100%)]] --> [[[FAILED]]]\n",
      "\n",
      "Former Florida Swimming Coach Dies at 83 (AP) AP - William H. Harlan, the retired University of Florida swimming coach who led the Gators to eight conference titles, died Tuesday, school officials said. He was 83.\n",
      "\n",
      "\n"
     ]
    },
    {
     "name": "stderr",
     "output_type": "stream",
     "text": [
      "[Succeeded / Failed / Skipped / Total] 3 / 123 / 10 / 136:  60%|██████    | 3/5 [11:32<07:41, 230.93s/it]"
     ]
    },
    {
     "name": "stdout",
     "output_type": "stream",
     "text": [
      "--------------------------------------------- Result 136 ---------------------------------------------\n",
      "[[Sports (100%)]] --> [[[FAILED]]]\n",
      "\n",
      "US Men Have Right Touch in Relay Duel Against Australia THENS, Aug. 17 - So Michael Phelps is not going to match the seven gold medals won by Mark Spitz. And it is too early to tell if he will match Aleksandr Dityatin, the Soviet gymnast who won eight total medals in 1980. But those were not the ...\n",
      "\n",
      "\n"
     ]
    },
    {
     "name": "stderr",
     "output_type": "stream",
     "text": [
      "[Succeeded / Failed / Skipped / Total] 3 / 124 / 10 / 137:  60%|██████    | 3/5 [11:35<07:43, 231.75s/it]"
     ]
    },
    {
     "name": "stdout",
     "output_type": "stream",
     "text": [
      "--------------------------------------------- Result 137 ---------------------------------------------\n",
      "[[World (98%)]] --> [[[FAILED]]]\n",
      "\n",
      "Schrder adopts Russian orphan Three-year-old Victoria, from St Petersburg, has been living at the Schrders #39; family home in Hanover in northern Germany for several weeks. \n",
      "\n",
      "\n"
     ]
    },
    {
     "name": "stderr",
     "output_type": "stream",
     "text": [
      "[Succeeded / Failed / Skipped / Total] 3 / 125 / 10 / 138:  60%|██████    | 3/5 [11:41<07:47, 233.95s/it]"
     ]
    },
    {
     "name": "stdout",
     "output_type": "stream",
     "text": [
      "--------------------------------------------- Result 138 ---------------------------------------------\n",
      "[[Sports (100%)]] --> [[[FAILED]]]\n",
      "\n",
      "Cabrera Leads Red Sox Past Blue Jays 5-4 (AP) AP - Orlando Cabrera hit a run-scoring double off the Green Monster in the ninth inning on reliever Justin Speier's second pitch of the game, giving the Boston Red Sox a 5-4 win over the Toronto Blue Jays on Tuesday night.\n",
      "\n",
      "\n"
     ]
    },
    {
     "name": "stderr",
     "output_type": "stream",
     "text": [
      "[Succeeded / Failed / Skipped / Total] 3 / 126 / 10 / 139:  60%|██████    | 3/5 [11:46<07:51, 235.61s/it]"
     ]
    },
    {
     "name": "stdout",
     "output_type": "stream",
     "text": [
      "--------------------------------------------- Result 139 ---------------------------------------------\n",
      "[[Sports (100%)]] --> [[[FAILED]]]\n",
      "\n",
      "United Arab Emirates trap shooter secures nation #39;s first Olympic gold Sheik Ahmed bin Hashr Al-Maktoum earned the first-ever Olympic medal for the United Arab Emirates when he took home the gold medal in men #39;s double trap shooting on Tuesday in Athens. \n",
      "\n",
      "\n"
     ]
    },
    {
     "name": "stderr",
     "output_type": "stream",
     "text": [
      "[Succeeded / Failed / Skipped / Total] 3 / 127 / 10 / 140:  60%|██████    | 3/5 [11:48<07:52, 236.15s/it]"
     ]
    },
    {
     "name": "stdout",
     "output_type": "stream",
     "text": [
      "--------------------------------------------- Result 140 ---------------------------------------------\n",
      "[[World (100%)]] --> [[[FAILED]]]\n",
      "\n",
      "Sharon orders 1,000 homes in West Bank Israel announced plans for 1,000 houses in the West Bank yesterday, accelerating the expansion of the settlements. \n",
      "\n",
      "\n"
     ]
    },
    {
     "name": "stderr",
     "output_type": "stream",
     "text": [
      "[Succeeded / Failed / Skipped / Total] 3 / 128 / 10 / 141:  60%|██████    | 3/5 [11:52<07:54, 237.43s/it]"
     ]
    },
    {
     "name": "stdout",
     "output_type": "stream",
     "text": [
      "--------------------------------------------- Result 141 ---------------------------------------------\n",
      "[[Sports (100%)]] --> [[[FAILED]]]\n",
      "\n",
      "So. Cal Player Investigated in Sex Assault (AP) AP - At least one member of the top-ranked Southern California football team is under investigation for sexual assault, the Los Angeles Police Department said Tuesday.\n",
      "\n",
      "\n"
     ]
    },
    {
     "name": "stderr",
     "output_type": "stream",
     "text": [
      "[Succeeded / Failed / Skipped / Total] 3 / 129 / 10 / 142:  60%|██████    | 3/5 [11:54<07:56, 238.18s/it]"
     ]
    },
    {
     "name": "stdout",
     "output_type": "stream",
     "text": [
      "--------------------------------------------- Result 142 ---------------------------------------------\n",
      "[[World (96%)]] --> [[[FAILED]]]\n",
      "\n",
      "Bush Promotes His Plan for Missile Defense System President Bush, in Pennsylvania, said that opponents of a missile defense system were putting the nation's security at risk.\n",
      "\n",
      "\n"
     ]
    },
    {
     "name": "stderr",
     "output_type": "stream",
     "text": [
      "[Succeeded / Failed / Skipped / Total] 3 / 130 / 10 / 143:  60%|██████    | 3/5 [11:59<07:59, 239.78s/it]"
     ]
    },
    {
     "name": "stdout",
     "output_type": "stream",
     "text": [
      "--------------------------------------------- Result 143 ---------------------------------------------\n",
      "[[Sports (84%)]] --> [[[FAILED]]]\n",
      "\n",
      "China Sighs in Relief as Yao Scores High BEIJING (Reuters) - China breathed a measured sigh of relief after the skills of its basketball giant Yao Ming dwarfed New Zealand to sweep his team nearer to their goal of reaching the Athens Olympics semi-finals. \n",
      "\n",
      "\n"
     ]
    },
    {
     "name": "stderr",
     "output_type": "stream",
     "text": [
      "[Succeeded / Failed / Skipped / Total] 3 / 131 / 10 / 144:  60%|██████    | 3/5 [12:04<08:03, 241.61s/it]"
     ]
    },
    {
     "name": "stdout",
     "output_type": "stream",
     "text": [
      "--------------------------------------------- Result 144 ---------------------------------------------\n",
      "[[World (100%)]] --> [[[FAILED]]]\n",
      "\n",
      "Israelis OK new homes in West Bank A leaked Israeli plan to build 1,000 new Jewish settler homes in the West Bank yesterday sent Bush administration officials scrambling for a response in the sensitive period before November #39;s presidential election. \n",
      "\n",
      "\n"
     ]
    },
    {
     "name": "stderr",
     "output_type": "stream",
     "text": [
      "[Succeeded / Failed / Skipped / Total] 3 / 132 / 10 / 145:  60%|██████    | 3/5 [12:09<08:06, 243.30s/it]"
     ]
    },
    {
     "name": "stdout",
     "output_type": "stream",
     "text": [
      "--------------------------------------------- Result 145 ---------------------------------------------\n",
      "[[World (100%)]] --> [[[FAILED]]]\n",
      "\n",
      "Britain accuses 8 of terror plot LONDON - British police charged eight terrorist suspects yesterday with conspiring to commit murder and use radioactive materials, toxic gases, chemicals or explosives to cause  quot;fear or injury. quot; ...\n",
      "\n",
      "\n"
     ]
    },
    {
     "name": "stderr",
     "output_type": "stream",
     "text": [
      "[Succeeded / Failed / Skipped / Total] 3 / 133 / 10 / 146:  60%|██████    | 3/5 [12:12<08:08, 244.09s/it]"
     ]
    },
    {
     "name": "stdout",
     "output_type": "stream",
     "text": [
      "--------------------------------------------- Result 146 ---------------------------------------------\n",
      "[[World (100%)]] --> [[[FAILED]]]\n",
      "\n",
      "Israel kills 5 in strike at Hamas activist Islamic group #39;s armed wing, the Izz el-Deen al-Qassam Brigades. Doctors said he suffered leg wounds. \n",
      "\n",
      "\n"
     ]
    },
    {
     "name": "stderr",
     "output_type": "stream",
     "text": [
      "[Succeeded / Failed / Skipped / Total] 3 / 134 / 10 / 147:  60%|██████    | 3/5 [12:17<08:11, 245.74s/it]"
     ]
    },
    {
     "name": "stdout",
     "output_type": "stream",
     "text": [
      "--------------------------------------------- Result 147 ---------------------------------------------\n",
      "[[Sports (100%)]] --> [[[FAILED]]]\n",
      "\n",
      "Zambrano Out Early; So Are Mets ENVER, Aug. 17 - Victor Zambrano came to the Mets with radical movement on his pitches, fixable flaws in his delivery and a curious sore spot lingering around his right elbow. \n",
      "\n",
      "\n"
     ]
    },
    {
     "name": "stderr",
     "output_type": "stream",
     "text": [
      "[Succeeded / Failed / Skipped / Total] 3 / 135 / 10 / 148:  60%|██████    | 3/5 [12:22<08:14, 247.38s/it]"
     ]
    },
    {
     "name": "stdout",
     "output_type": "stream",
     "text": [
      "--------------------------------------------- Result 148 ---------------------------------------------\n",
      "[[Business (100%)]] --> [[[FAILED]]]\n",
      "\n",
      "Dollar Stuck, CPI Offers Little Direction  TOKYO (Reuters) - The dollar moved in tight ranges on  Wednesday as most investors shrugged off lower-than-expected  U.S. inflation data and stuck to the view the U.S. Federal  Reserve would continue raising rates.\n",
      "\n",
      "\n"
     ]
    },
    {
     "name": "stderr",
     "output_type": "stream",
     "text": [
      "[Succeeded / Failed / Skipped / Total] 3 / 136 / 10 / 149:  60%|██████    | 3/5 [12:28<08:19, 249.53s/it]"
     ]
    },
    {
     "name": "stdout",
     "output_type": "stream",
     "text": [
      "--------------------------------------------- Result 149 ---------------------------------------------\n",
      "[[Sports (100%)]] --> [[[FAILED]]]\n",
      "\n",
      "St. Louis Cardinals News Right-hander Matt Morris threw seven solid innings, but the Cardinals needed a bases-loaded walk to second baseman Tony Womack and a grand slam from new right fielder Larry Walker to key a six-run eighth inning for a ...\n",
      "\n",
      "\n"
     ]
    },
    {
     "name": "stderr",
     "output_type": "stream",
     "text": [
      "[Succeeded / Failed / Skipped / Total] 3 / 137 / 10 / 150:  60%|██████    | 3/5 [12:33<08:22, 251.05s/it]"
     ]
    },
    {
     "name": "stdout",
     "output_type": "stream",
     "text": [
      "--------------------------------------------- Result 150 ---------------------------------------------\n",
      "[[Sports (100%)]] --> [[[FAILED]]]\n",
      "\n",
      "Greek sprinters arrive at IOC hearing ATHENS (Reuters) - Greek sprinters Costas Kenteris and Katerina Thanou have arrived at an Athens hotel for an International Olympic Committee (IOC) hearing into their missed doped tests, a saga that has shamed and angered the Olympic host ...\n",
      "\n",
      "\n"
     ]
    },
    {
     "name": "stderr",
     "output_type": "stream",
     "text": [
      "[Succeeded / Failed / Skipped / Total] 3 / 138 / 10 / 151:  60%|██████    | 3/5 [12:35<08:23, 251.82s/it]"
     ]
    },
    {
     "name": "stdout",
     "output_type": "stream",
     "text": [
      "--------------------------------------------- Result 151 ---------------------------------------------\n",
      "[[Sports (97%)]] --> [[[FAILED]]]\n",
      "\n",
      "Flop in the ninth inning sinks Jays BOSTON -- The Toronto Blue Jays have had worse hitting games this season against lesser pitchers than Pedro Martinez. \n",
      "\n",
      "\n"
     ]
    },
    {
     "name": "stderr",
     "output_type": "stream",
     "text": [
      "[Succeeded / Failed / Skipped / Total] 3 / 139 / 10 / 152:  60%|██████    | 3/5 [12:40<08:27, 253.59s/it]"
     ]
    },
    {
     "name": "stdout",
     "output_type": "stream",
     "text": [
      "--------------------------------------------- Result 152 ---------------------------------------------\n",
      "[[World (100%)]] --> [[[FAILED]]]\n",
      "\n",
      "Fresh Fighting Shatters Short-Lived Ceasefire Deal Renewed clashes in South Ossetia, which resulted in death of two Georgian soldiers, erupted late on August 17, several hours after the South Ossetian and Georgian officials agreed on ceasefire. As a result Tbilisi has already announced that it will not ...\n",
      "\n",
      "\n"
     ]
    },
    {
     "name": "stderr",
     "output_type": "stream",
     "text": [
      "[Succeeded / Failed / Skipped / Total] 3 / 140 / 10 / 153:  60%|██████    | 3/5 [12:43<08:29, 254.64s/it]"
     ]
    },
    {
     "name": "stdout",
     "output_type": "stream",
     "text": [
      "--------------------------------------------- Result 153 ---------------------------------------------\n",
      "[[Sports (99%)]] --> [[[FAILED]]]\n",
      "\n",
      "Hamm hopes to get on a roll Paul Hamm takes another shot at history tonight, when he'll try to become the first American to win the Olympic men's all-around in gymnastics.\n",
      "\n",
      "\n"
     ]
    },
    {
     "name": "stderr",
     "output_type": "stream",
     "text": [
      "[Succeeded / Failed / Skipped / Total] 3 / 141 / 10 / 154:  60%|██████    | 3/5 [12:48<08:32, 256.20s/it]"
     ]
    },
    {
     "name": "stdout",
     "output_type": "stream",
     "text": [
      "--------------------------------------------- Result 154 ---------------------------------------------\n",
      "[[World (100%)]] --> [[[FAILED]]]\n",
      "\n",
      "Karzai Promises Afghans Security for Election (Reuters) Reuters - Afghanistan's President Hamid Karzai\\promised Afghans greater security when they go to vote in the\\country's first ever democratic election during an independence\\day speech on Wednesday.\n",
      "\n",
      "\n"
     ]
    },
    {
     "name": "stderr",
     "output_type": "stream",
     "text": [
      "[Succeeded / Failed / Skipped / Total] 3 / 142 / 10 / 155:  60%|██████    | 3/5 [12:55<08:37, 258.54s/it]"
     ]
    },
    {
     "name": "stdout",
     "output_type": "stream",
     "text": [
      "--------------------------------------------- Result 155 ---------------------------------------------\n",
      "[[World (100%)]] --> [[[FAILED]]]\n",
      "\n",
      "Google Lowers Its IPO Price Range SAN JOSE, Calif. - In a sign that Google Inc.'s initial public offering isn't as popular as expected, the company lowered its estimated price range to between \\$85 and \\$95 per share, down from the earlier prediction of \\$108 and \\$135 per share...\n",
      "\n",
      "\n"
     ]
    },
    {
     "name": "stderr",
     "output_type": "stream",
     "text": [
      "[Succeeded / Failed / Skipped / Total] 4 / 142 / 10 / 156:  80%|████████  | 4/5 [12:56<03:14, 194.15s/it]"
     ]
    },
    {
     "name": "stdout",
     "output_type": "stream",
     "text": [
      "--------------------------------------------- Result 156 ---------------------------------------------\n",
      "[[World (71%)]] --> [[Sci/tech (85%)]]\n",
      "\n",
      "[[Future]] Doctors, Crossing Borders Students at the Mount Sinai School of Medicine learn that diet and culture shape health in East Harlem.\n",
      "\n",
      "[[Futuristic]] Doctors, Crossing Borders Students at the Mount Sinai School of Medicine learn that diet and culture shape health in East Harlem.\n",
      "\n",
      "\n"
     ]
    },
    {
     "name": "stderr",
     "output_type": "stream",
     "text": [
      "[Succeeded / Failed / Skipped / Total] 4 / 143 / 10 / 157:  80%|████████  | 4/5 [13:03<03:15, 195.80s/it]"
     ]
    },
    {
     "name": "stdout",
     "output_type": "stream",
     "text": [
      "--------------------------------------------- Result 157 ---------------------------------------------\n",
      "[[Business (100%)]] --> [[[FAILED]]]\n",
      "\n",
      "Oil Sets New Record \\$47 on Iraq Threat  LONDON (Reuters) - Oil prices surged to a new high of \\$47 a  barrel on Wednesday after a new threat by rebel militia against  Iraqi oil facilities and as the United States said inflation  had stayed in check despite rising energy costs.\n",
      "\n",
      "\n"
     ]
    },
    {
     "name": "stderr",
     "output_type": "stream",
     "text": [
      "[Succeeded / Failed / Skipped / Total] 4 / 144 / 10 / 158:  80%|████████  | 4/5 [13:08<03:17, 197.19s/it]"
     ]
    },
    {
     "name": "stdout",
     "output_type": "stream",
     "text": [
      "--------------------------------------------- Result 158 ---------------------------------------------\n",
      "[[Sports (100%)]] --> [[[FAILED]]]\n",
      "\n",
      "Greek sprinters quit to end Games scandal ATHENS (Reuters) - Greece #39;s two top athletes have pulled out of the Athens Olympics and apologised to the Greek people for a scandal over missed dope tests that has tarnished the Games #39; return to their birthplace. \n",
      "\n",
      "\n"
     ]
    },
    {
     "name": "stderr",
     "output_type": "stream",
     "text": [
      "[Succeeded / Failed / Skipped / Total] 4 / 145 / 10 / 159:  80%|████████  | 4/5 [13:13<03:18, 198.47s/it]"
     ]
    },
    {
     "name": "stdout",
     "output_type": "stream",
     "text": [
      "--------------------------------------------- Result 159 ---------------------------------------------\n",
      "[[Sports (100%)]] --> [[[FAILED]]]\n",
      "\n",
      "Phelps Eyes Fourth Gold  ATHENS (Reuters) - A weary Michael Phelps targeted his  fourth Olympic gold medal in Athens, turning his attention on  Wednesday to the 200 meters individual medley and settling for  the second-fastest overall time in the heats.\n",
      "\n",
      "\n"
     ]
    },
    {
     "name": "stderr",
     "output_type": "stream",
     "text": [
      "[Succeeded / Failed / Skipped / Total] 4 / 146 / 10 / 160:  80%|████████  | 4/5 [13:18<03:19, 199.68s/it]"
     ]
    },
    {
     "name": "stdout",
     "output_type": "stream",
     "text": [
      "--------------------------------------------- Result 160 ---------------------------------------------\n",
      "[[World (100%)]] --> [[[FAILED]]]\n",
      "\n",
      "Israel Kills 5 in Attempt to Assassinate Hamas Man  GAZA (Reuters) - A senior Hamas leader survived an Israeli  assassination attempt in the Gaza Strip Wednesday but at least  five other Palestinians were killed in the explosion that tore  through his home.\n",
      "\n",
      "\n"
     ]
    },
    {
     "name": "stderr",
     "output_type": "stream",
     "text": [
      "[Succeeded / Failed / Skipped / Total] 5 / 146 / 10 / 161: 100%|██████████| 5/5 [13:21<00:00, 160.25s/it]"
     ]
    },
    {
     "name": "stdout",
     "output_type": "stream",
     "text": [
      "--------------------------------------------- Result 161 ---------------------------------------------\n",
      "[[Sports (89%)]] --> [[World (55%)]]\n",
      "\n",
      "Giants win 6th straight, but Schmidt is injured SAN FRANCISCO -- With the [[first]] doubleheader at SBC Park set to go off, today already stood to be a [[long]] workday for the Giants. It will come on the heels of an even longer night. \n",
      "\n",
      "Giants win 6th straight, but Schmidt is injured SAN FRANCISCO -- With the [[fiirst]] doubleheader at SBC Park set to go off, today already stood to be a [[interminable]] workday for the Giants. It will come on the heels of an even longer night. \n",
      "\n",
      "\n",
      "\n",
      "+-------------------------------+--------+\n",
      "| Attack Results                |        |\n",
      "+-------------------------------+--------+\n",
      "| Number of successful attacks: | 5      |\n",
      "| Number of failed attacks:     | 146    |\n",
      "| Number of skipped attacks:    | 10     |\n",
      "| Original accuracy:            | 93.79% |\n",
      "| Accuracy under attack:        | 90.68% |\n",
      "| Attack success rate:          | 3.31%  |\n",
      "| Average perturbed word %:     | 4.63%  |\n",
      "| Average num. words per input: | 41.94  |\n",
      "| Avg num queries:              | 55.89  |\n",
      "+-------------------------------+--------+\n"
     ]
    },
    {
     "name": "stderr",
     "output_type": "stream",
     "text": [
      "\n"
     ]
    },
    {
     "data": {
      "text/plain": [
       "[<textattack.attack_results.failed_attack_result.FailedAttackResult at 0x7f01133c63a0>,\n",
       " <textattack.attack_results.failed_attack_result.FailedAttackResult at 0x7f01198bf9d0>,\n",
       " <textattack.attack_results.failed_attack_result.FailedAttackResult at 0x7f0128707760>,\n",
       " <textattack.attack_results.failed_attack_result.FailedAttackResult at 0x7f0163d43490>,\n",
       " <textattack.attack_results.failed_attack_result.FailedAttackResult at 0x7f011840bbb0>,\n",
       " <textattack.attack_results.failed_attack_result.FailedAttackResult at 0x7f014c7a5f40>,\n",
       " <textattack.attack_results.failed_attack_result.FailedAttackResult at 0x7f010b503550>,\n",
       " <textattack.attack_results.failed_attack_result.FailedAttackResult at 0x7f014c7b28e0>,\n",
       " <textattack.attack_results.failed_attack_result.FailedAttackResult at 0x7f025bb37310>,\n",
       " <textattack.attack_results.skipped_attack_result.SkippedAttackResult at 0x7f01292dfa30>,\n",
       " <textattack.attack_results.failed_attack_result.FailedAttackResult at 0x7f012e343d60>,\n",
       " <textattack.attack_results.failed_attack_result.FailedAttackResult at 0x7f012e453f70>,\n",
       " <textattack.attack_results.failed_attack_result.FailedAttackResult at 0x7f014f613f10>,\n",
       " <textattack.attack_results.failed_attack_result.FailedAttackResult at 0x7f011840bb20>,\n",
       " <textattack.attack_results.failed_attack_result.FailedAttackResult at 0x7f0129606070>,\n",
       " <textattack.attack_results.failed_attack_result.FailedAttackResult at 0x7f00f0dc9850>,\n",
       " <textattack.attack_results.failed_attack_result.FailedAttackResult at 0x7f0163d43580>,\n",
       " <textattack.attack_results.failed_attack_result.FailedAttackResult at 0x7f012e343760>,\n",
       " <textattack.attack_results.failed_attack_result.FailedAttackResult at 0x7f0111fc0400>,\n",
       " <textattack.attack_results.failed_attack_result.FailedAttackResult at 0x7f00f0dc90a0>,\n",
       " <textattack.attack_results.successful_attack_result.SuccessfulAttackResult at 0x7f011840b280>,\n",
       " <textattack.attack_results.failed_attack_result.FailedAttackResult at 0x7f0118992cd0>,\n",
       " <textattack.attack_results.failed_attack_result.FailedAttackResult at 0x7f012e0b1b50>,\n",
       " <textattack.attack_results.skipped_attack_result.SkippedAttackResult at 0x7f012e0b1f70>,\n",
       " <textattack.attack_results.failed_attack_result.FailedAttackResult at 0x7f0120650c10>,\n",
       " <textattack.attack_results.failed_attack_result.FailedAttackResult at 0x7f00f0dc9640>,\n",
       " <textattack.attack_results.failed_attack_result.FailedAttackResult at 0x7f012e30c070>,\n",
       " <textattack.attack_results.failed_attack_result.FailedAttackResult at 0x7f01609c4850>,\n",
       " <textattack.attack_results.failed_attack_result.FailedAttackResult at 0x7f0113eb7490>,\n",
       " <textattack.attack_results.failed_attack_result.FailedAttackResult at 0x7f012e453040>,\n",
       " <textattack.attack_results.failed_attack_result.FailedAttackResult at 0x7f0118f43bb0>,\n",
       " <textattack.attack_results.failed_attack_result.FailedAttackResult at 0x7f01609c4100>,\n",
       " <textattack.attack_results.failed_attack_result.FailedAttackResult at 0x7f012e30c520>,\n",
       " <textattack.attack_results.failed_attack_result.FailedAttackResult at 0x7f012e3270a0>,\n",
       " <textattack.attack_results.failed_attack_result.FailedAttackResult at 0x7f0128297f70>,\n",
       " <textattack.attack_results.failed_attack_result.FailedAttackResult at 0x7f014c778a30>,\n",
       " <textattack.attack_results.failed_attack_result.FailedAttackResult at 0x7f011968aa30>,\n",
       " <textattack.attack_results.failed_attack_result.FailedAttackResult at 0x7f00f172cbe0>,\n",
       " <textattack.attack_results.failed_attack_result.FailedAttackResult at 0x7f01c7b1b460>,\n",
       " <textattack.attack_results.failed_attack_result.FailedAttackResult at 0x7f0129606730>,\n",
       " <textattack.attack_results.failed_attack_result.FailedAttackResult at 0x7f011840b190>,\n",
       " <textattack.attack_results.failed_attack_result.FailedAttackResult at 0x7f00effc8580>,\n",
       " <textattack.attack_results.failed_attack_result.FailedAttackResult at 0x7f012e4e7490>,\n",
       " <textattack.attack_results.failed_attack_result.FailedAttackResult at 0x7f01609c43a0>,\n",
       " <textattack.attack_results.failed_attack_result.FailedAttackResult at 0x7f012e4e72e0>,\n",
       " <textattack.attack_results.failed_attack_result.FailedAttackResult at 0x7f014c223520>,\n",
       " <textattack.attack_results.failed_attack_result.FailedAttackResult at 0x7f025baa3bb0>,\n",
       " <textattack.attack_results.successful_attack_result.SuccessfulAttackResult at 0x7f00effc8460>,\n",
       " <textattack.attack_results.failed_attack_result.FailedAttackResult at 0x7f011bdb4dc0>,\n",
       " <textattack.attack_results.failed_attack_result.FailedAttackResult at 0x7f0129606520>,\n",
       " <textattack.attack_results.failed_attack_result.FailedAttackResult at 0x7f0119f80310>,\n",
       " <textattack.attack_results.failed_attack_result.FailedAttackResult at 0x7f0118992100>,\n",
       " <textattack.attack_results.failed_attack_result.FailedAttackResult at 0x7f0119f80820>,\n",
       " <textattack.attack_results.failed_attack_result.FailedAttackResult at 0x7f014c223460>,\n",
       " <textattack.attack_results.failed_attack_result.FailedAttackResult at 0x7f0111fc00a0>,\n",
       " <textattack.attack_results.skipped_attack_result.SkippedAttackResult at 0x7f0111fc0160>,\n",
       " <textattack.attack_results.failed_attack_result.FailedAttackResult at 0x7f011840b910>,\n",
       " <textattack.attack_results.failed_attack_result.FailedAttackResult at 0x7f00f0dc93a0>,\n",
       " <textattack.attack_results.failed_attack_result.FailedAttackResult at 0x7f012e69adf0>,\n",
       " <textattack.attack_results.failed_attack_result.FailedAttackResult at 0x7f01292df3a0>,\n",
       " <textattack.attack_results.failed_attack_result.FailedAttackResult at 0x7f014c778d90>,\n",
       " <textattack.attack_results.failed_attack_result.FailedAttackResult at 0x7f01ca94ccd0>,\n",
       " <textattack.attack_results.failed_attack_result.FailedAttackResult at 0x7f014c2234c0>,\n",
       " <textattack.attack_results.failed_attack_result.FailedAttackResult at 0x7f0118f43910>,\n",
       " <textattack.attack_results.failed_attack_result.FailedAttackResult at 0x7f02745a2a30>,\n",
       " <textattack.attack_results.failed_attack_result.FailedAttackResult at 0x7f014c7bebb0>,\n",
       " <textattack.attack_results.failed_attack_result.FailedAttackResult at 0x7f012e0b1070>,\n",
       " <textattack.attack_results.failed_attack_result.FailedAttackResult at 0x7f0119f80bb0>,\n",
       " <textattack.attack_results.failed_attack_result.FailedAttackResult at 0x7f00f172c910>,\n",
       " <textattack.attack_results.failed_attack_result.FailedAttackResult at 0x7f012e0b12b0>,\n",
       " <textattack.attack_results.failed_attack_result.FailedAttackResult at 0x7f027c579580>,\n",
       " <textattack.attack_results.failed_attack_result.FailedAttackResult at 0x7f014c778be0>,\n",
       " <textattack.attack_results.failed_attack_result.FailedAttackResult at 0x7f014c7b2eb0>,\n",
       " <textattack.attack_results.failed_attack_result.FailedAttackResult at 0x7f0110195880>,\n",
       " <textattack.attack_results.failed_attack_result.FailedAttackResult at 0x7f014c7a5dc0>,\n",
       " <textattack.attack_results.failed_attack_result.FailedAttackResult at 0x7f0129606be0>,\n",
       " <textattack.attack_results.failed_attack_result.FailedAttackResult at 0x7f00f12897c0>,\n",
       " <textattack.attack_results.failed_attack_result.FailedAttackResult at 0x7f014c7b28b0>,\n",
       " <textattack.attack_results.failed_attack_result.FailedAttackResult at 0x7f011bdb4820>,\n",
       " <textattack.attack_results.skipped_attack_result.SkippedAttackResult at 0x7f011bdb4250>,\n",
       " <textattack.attack_results.failed_attack_result.FailedAttackResult at 0x7f00f172c850>,\n",
       " <textattack.attack_results.failed_attack_result.FailedAttackResult at 0x7f01c7b1b7c0>,\n",
       " <textattack.attack_results.failed_attack_result.FailedAttackResult at 0x7f0129606490>,\n",
       " <textattack.attack_results.skipped_attack_result.SkippedAttackResult at 0x7f01296068b0>,\n",
       " <textattack.attack_results.skipped_attack_result.SkippedAttackResult at 0x7f0129606a00>,\n",
       " <textattack.attack_results.failed_attack_result.FailedAttackResult at 0x7f0113eb7d00>,\n",
       " <textattack.attack_results.failed_attack_result.FailedAttackResult at 0x7f0118992bb0>,\n",
       " <textattack.attack_results.failed_attack_result.FailedAttackResult at 0x7f01184022b0>,\n",
       " <textattack.attack_results.failed_attack_result.FailedAttackResult at 0x7f00effc85e0>,\n",
       " <textattack.attack_results.failed_attack_result.FailedAttackResult at 0x7f00ebd0e9d0>,\n",
       " <textattack.attack_results.failed_attack_result.FailedAttackResult at 0x7f027c247190>,\n",
       " <textattack.attack_results.failed_attack_result.FailedAttackResult at 0x7f011a348940>,\n",
       " <textattack.attack_results.failed_attack_result.FailedAttackResult at 0x7f01292df1c0>,\n",
       " <textattack.attack_results.failed_attack_result.FailedAttackResult at 0x7f0111fc07c0>,\n",
       " <textattack.attack_results.failed_attack_result.FailedAttackResult at 0x7f012e4e7a30>,\n",
       " <textattack.attack_results.failed_attack_result.FailedAttackResult at 0x7f012e343400>,\n",
       " <textattack.attack_results.failed_attack_result.FailedAttackResult at 0x7f0120406eb0>,\n",
       " <textattack.attack_results.failed_attack_result.FailedAttackResult at 0x7f01103c11f0>,\n",
       " <textattack.attack_results.failed_attack_result.FailedAttackResult at 0x7f01292dfa90>,\n",
       " <textattack.attack_results.failed_attack_result.FailedAttackResult at 0x7f00f1289ee0>,\n",
       " <textattack.attack_results.failed_attack_result.FailedAttackResult at 0x7f0118f43c10>,\n",
       " <textattack.attack_results.failed_attack_result.FailedAttackResult at 0x7f011968a280>,\n",
       " <textattack.attack_results.failed_attack_result.FailedAttackResult at 0x7f01103c1310>,\n",
       " <textattack.attack_results.failed_attack_result.FailedAttackResult at 0x7f01609c4c40>,\n",
       " <textattack.attack_results.successful_attack_result.SuccessfulAttackResult at 0x7f011a348820>,\n",
       " <textattack.attack_results.failed_attack_result.FailedAttackResult at 0x7f01294a7e50>,\n",
       " <textattack.attack_results.failed_attack_result.FailedAttackResult at 0x7f012e4e74f0>,\n",
       " <textattack.attack_results.failed_attack_result.FailedAttackResult at 0x7f00f0dc9c70>,\n",
       " <textattack.attack_results.failed_attack_result.FailedAttackResult at 0x7f01c7b1bca0>,\n",
       " <textattack.attack_results.failed_attack_result.FailedAttackResult at 0x7f0119e7ef10>,\n",
       " <textattack.attack_results.skipped_attack_result.SkippedAttackResult at 0x7f0119e7e400>,\n",
       " <textattack.attack_results.skipped_attack_result.SkippedAttackResult at 0x7f0119e7e670>,\n",
       " <textattack.attack_results.failed_attack_result.FailedAttackResult at 0x7f012e4533d0>,\n",
       " <textattack.attack_results.failed_attack_result.FailedAttackResult at 0x7f014c7b2a00>,\n",
       " <textattack.attack_results.failed_attack_result.FailedAttackResult at 0x7f014c223730>,\n",
       " <textattack.attack_results.failed_attack_result.FailedAttackResult at 0x7f012e343190>,\n",
       " <textattack.attack_results.failed_attack_result.FailedAttackResult at 0x7f0119e7e220>,\n",
       " <textattack.attack_results.failed_attack_result.FailedAttackResult at 0x7f012e4e7a90>,\n",
       " <textattack.attack_results.failed_attack_result.FailedAttackResult at 0x7f01198bfc10>,\n",
       " <textattack.attack_results.failed_attack_result.FailedAttackResult at 0x7f0110195ee0>,\n",
       " <textattack.attack_results.skipped_attack_result.SkippedAttackResult at 0x7f0110195640>,\n",
       " <textattack.attack_results.failed_attack_result.FailedAttackResult at 0x7f012e4e7730>,\n",
       " <textattack.attack_results.failed_attack_result.FailedAttackResult at 0x7f0118f43820>,\n",
       " <textattack.attack_results.failed_attack_result.FailedAttackResult at 0x7f011a3486a0>,\n",
       " <textattack.attack_results.failed_attack_result.FailedAttackResult at 0x7f014c223700>,\n",
       " <textattack.attack_results.skipped_attack_result.SkippedAttackResult at 0x7f014c2231f0>,\n",
       " <textattack.attack_results.failed_attack_result.FailedAttackResult at 0x7f014c223610>,\n",
       " <textattack.attack_results.failed_attack_result.FailedAttackResult at 0x7f0113eb7670>,\n",
       " <textattack.attack_results.failed_attack_result.FailedAttackResult at 0x7f012e4e7f70>,\n",
       " <textattack.attack_results.failed_attack_result.FailedAttackResult at 0x7f0109c70220>,\n",
       " <textattack.attack_results.failed_attack_result.FailedAttackResult at 0x7f01294a7dc0>,\n",
       " <textattack.attack_results.failed_attack_result.FailedAttackResult at 0x7f01292df580>,\n",
       " <textattack.attack_results.failed_attack_result.FailedAttackResult at 0x7f012e4e7430>,\n",
       " <textattack.attack_results.failed_attack_result.FailedAttackResult at 0x7f014c7b2d00>,\n",
       " <textattack.attack_results.failed_attack_result.FailedAttackResult at 0x7f0128707df0>,\n",
       " <textattack.attack_results.failed_attack_result.FailedAttackResult at 0x7f012e327fd0>,\n",
       " <textattack.attack_results.failed_attack_result.FailedAttackResult at 0x7f010b5034c0>,\n",
       " <textattack.attack_results.failed_attack_result.FailedAttackResult at 0x7f012e4e76d0>,\n",
       " <textattack.attack_results.failed_attack_result.FailedAttackResult at 0x7f010b5036d0>,\n",
       " <textattack.attack_results.failed_attack_result.FailedAttackResult at 0x7f0128297700>,\n",
       " <textattack.attack_results.failed_attack_result.FailedAttackResult at 0x7f011a348d00>,\n",
       " <textattack.attack_results.failed_attack_result.FailedAttackResult at 0x7f012e4e70a0>,\n",
       " <textattack.attack_results.failed_attack_result.FailedAttackResult at 0x7f014c7786a0>,\n",
       " <textattack.attack_results.failed_attack_result.FailedAttackResult at 0x7f00f1289c10>,\n",
       " <textattack.attack_results.failed_attack_result.FailedAttackResult at 0x7f014c7a5f10>,\n",
       " <textattack.attack_results.failed_attack_result.FailedAttackResult at 0x7f012e453e50>,\n",
       " <textattack.attack_results.failed_attack_result.FailedAttackResult at 0x7f011be4d4c0>,\n",
       " <textattack.attack_results.failed_attack_result.FailedAttackResult at 0x7f011a1e43a0>,\n",
       " <textattack.attack_results.failed_attack_result.FailedAttackResult at 0x7f01c7b1b1c0>,\n",
       " <textattack.attack_results.failed_attack_result.FailedAttackResult at 0x7f0118f43040>,\n",
       " <textattack.attack_results.failed_attack_result.FailedAttackResult at 0x7f011be4d670>,\n",
       " <textattack.attack_results.failed_attack_result.FailedAttackResult at 0x7f011a1e4910>,\n",
       " <textattack.attack_results.failed_attack_result.FailedAttackResult at 0x7f01c7b1b130>,\n",
       " <textattack.attack_results.failed_attack_result.FailedAttackResult at 0x7f0129606700>,\n",
       " <textattack.attack_results.failed_attack_result.FailedAttackResult at 0x7f014c223430>,\n",
       " <textattack.attack_results.successful_attack_result.SuccessfulAttackResult at 0x7f0118992e80>,\n",
       " <textattack.attack_results.failed_attack_result.FailedAttackResult at 0x7f0128707a30>,\n",
       " <textattack.attack_results.failed_attack_result.FailedAttackResult at 0x7f011a1e4730>,\n",
       " <textattack.attack_results.failed_attack_result.FailedAttackResult at 0x7f014c7b29a0>,\n",
       " <textattack.attack_results.failed_attack_result.FailedAttackResult at 0x7f012e4e7850>,\n",
       " <textattack.attack_results.successful_attack_result.SuccessfulAttackResult at 0x7f0111fc0d60>]"
      ]
     },
     "execution_count": 20,
     "metadata": {},
     "output_type": "execute_result"
    }
   ],
   "source": [
    "from textattack.loggers import CSVLogger # tracks a dataframe for us.\n",
    "from textattack.attack_results import SuccessfulAttackResult\n",
    "from textattack import Attacker, AttackArgs\n",
    "\n",
    "attack_args = AttackArgs(num_successful_examples=5, log_to_csv=\"results.csv\", csv_coloring_style=\"html\")\n",
    "attacker = Attacker(attack, dataset, attack_args)\n",
    "\n",
    "attacker.attack_dataset()"
   ]
  },
  {
   "cell_type": "code",
   "execution_count": 16,
   "metadata": {},
   "outputs": [
    {
     "name": "stderr",
     "output_type": "stream",
     "text": [
      "/tmp/ipykernel_29018/2781339431.py:4: DeprecationWarning: Importing display from IPython.core.display is deprecated since IPython 7.14, please import from IPython display\n",
      "  from IPython.core.display import display, HTML\n"
     ]
    },
    {
     "data": {
      "text/html": [
       "<table border=\"1\" class=\"dataframe\">\n",
       "  <thead>\n",
       "    <tr style=\"text-align: right;\">\n",
       "      <th></th>\n",
       "      <th>original_text</th>\n",
       "      <th>perturbed_text</th>\n",
       "    </tr>\n",
       "  </thead>\n",
       "  <tbody>\n",
       "    <tr>\n",
       "      <th>0</th>\n",
       "      <td>Fears for T N pension after talks Unions representing workers at <font color = blue>Turner</font>   Newall say they are 'disappointed' after talks with stricken parent firm Federal <font color = blue>Mogul</font>.</td>\n",
       "      <td>Fears for T N pension after talks Unions representing workers at <font color = purple>Knapp</font>   Newall say they are 'disappointed' after talks with stricken parent firm Federal <font color = purple>Titan</font>.</td>\n",
       "    </tr>\n",
       "    <tr>\n",
       "      <th>3</th>\n",
       "      <td><font color = purple>Prediction</font> <font color = purple>Unit</font> Helps <font color = purple>Forecast</font> Wildfires (AP) AP - It's barely dawn when <font color = purple>Mike</font> Fitzpatrick starts his shift with a blur of colorful maps, figures and endless charts, but already he knows what the day will bring. Lightning will strike in places he expects. Winds will pick up, moist places will dry and flames will roar.</td>\n",
       "      <td><font color = green>Foresight</font> <font color = green>Driving</font> Helps <font color = green>Expectations</font> Wildfires (AP) AP - It's barely dawn when <font color = green>Meek</font> Fitzpatrick starts his shift with a blur of colorful maps, figures and endless charts, but already he knows what the day will bring. Lightning will strike in places he expects. Winds will pick up, moist places will dry and flames will roar.</td>\n",
       "    </tr>\n",
       "    <tr>\n",
       "      <th>8</th>\n",
       "      <td>E-mail scam targets police chief Wiltshire <font color = purple>Police</font> warns about \"phishing\" after its fraud squad chief was targeted.</td>\n",
       "      <td>E-mail scam targets police chief Wiltshire <font color = red>Constabulary</font> warns about \"phishing\" after its fraud squad chief was targeted.</td>\n",
       "    </tr>\n",
       "    <tr>\n",
       "      <th>11</th>\n",
       "      <td>Apple <font color = purple>Launches</font> <font color = purple>Graphics</font> Software, <font color = purple>Video</font> <font color = purple>Bundle</font>  LOS <font color = purple>ANGELES</font> (<font color = purple>Reuters</font>) - Apple <font color = purple>Computer</font> Inc.&lt;AAPL.<font color = purple>O</font>&gt; on  <font color = purple>Tuesday</font> began shipping a new program designed to let users  create real-time motion graphics and unveiled a discount  video-editing software bundle featuring its flagship <font color = purple>Final</font> <font color = purple>Cut</font>  <font color = purple>Pro</font> software.</td>\n",
       "      <td>Apple <font color = blue>Startup</font> <font color = blue>Charting</font> Software, <font color = blue>Film</font> <font color = blue>Pooling</font>  LOS <font color = blue>FRESNO</font> (<font color = blue>Msnbc</font>) - Apple <font color = blue>Team</font> Inc.&lt;AAPL.<font color = blue>s</font>&gt; on  <font color = blue>Friday</font> began shipping a new program designed to let users  create real-time motion graphics and unveiled a discount  video-editing software bundle featuring its flagship <font color = blue>Conclude</font> <font color = blue>Cuts</font>  <font color = blue>Careers</font> software.</td>\n",
       "    </tr>\n",
       "    <tr>\n",
       "      <th>12</th>\n",
       "      <td>Dutch Retailer Beats <font color = purple>Apple</font> to Local <font color = purple>Download</font> Market  AMSTERDAM (Reuters) - Free <font color = purple>Record</font> <font color = purple>Shop</font>, a Dutch music  retail chain, beat <font color = purple>Apple</font> <font color = purple>Computer</font> Inc. to market on Tuesday  with the launch of a new download service in Europe's latest  battleground for digital song services.</td>\n",
       "      <td>Dutch Retailer Beats <font color = blue>Abel</font> to Local <font color = blue>Absolution</font> Market  AMSTERDAM (Reuters) - Free <font color = blue>Registering</font> <font color = blue>Depot</font>, a Dutch music  retail chain, beat <font color = blue>Cobbler</font> <font color = blue>Typewriters</font> Inc. to market on Tuesday  with the launch of a new download service in Europe's latest  battleground for digital song services.</td>\n",
       "    </tr>\n",
       "  </tbody>\n",
       "</table>"
      ],
      "text/plain": [
       "<IPython.core.display.HTML object>"
      ]
     },
     "metadata": {},
     "output_type": "display_data"
    }
   ],
   "source": [
    "import pandas as pd\n",
    "pd.options.display.max_colwidth = 480 # increase column width so we can actually read the examples\n",
    "\n",
    "from IPython.core.display import display, HTML\n",
    "\n",
    "logger = attacker.attack_log_manager.loggers[0]\n",
    "successes = logger.df[logger.df[\"result_type\"] == \"Successful\"]\n",
    "display(HTML(successes[['original_text', 'perturbed_text']].to_html(escape=False)))"
   ]
  },
  {
   "cell_type": "code",
   "execution_count": null,
   "metadata": {},
   "outputs": [],
   "source": []
  }
 ],
 "metadata": {
  "kernelspec": {
   "display_name": "Python 3.8.0 64-bit",
   "language": "python",
   "name": "python3"
  },
  "language_info": {
   "codemirror_mode": {
    "name": "ipython",
    "version": 3
   },
   "file_extension": ".py",
   "mimetype": "text/x-python",
   "name": "python",
   "nbconvert_exporter": "python",
   "pygments_lexer": "ipython3",
   "version": "3.8.0"
  },
  "orig_nbformat": 4,
  "vscode": {
   "interpreter": {
    "hash": "aee8b7b246df8f9039afb4144a1f6fd8d2ca17a180786b69acc140d282b71a49"
   }
  }
 },
 "nbformat": 4,
 "nbformat_minor": 2
}
